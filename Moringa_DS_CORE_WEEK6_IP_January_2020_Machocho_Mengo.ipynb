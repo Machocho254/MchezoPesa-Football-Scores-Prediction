{
  "nbformat": 4,
  "nbformat_minor": 0,
  "metadata": {
    "colab": {
      "name": "Moringa_DS_CORE_WEEK6_IP_January_2020_Machocho_Mengo",
      "provenance": [],
      "collapsed_sections": [],
      "machine_shape": "hm",
      "include_colab_link": true
    },
    "kernelspec": {
      "name": "python3",
      "display_name": "Python 3"
    },
    "accelerator": "GPU"
  },
  "cells": [
    {
      "cell_type": "markdown",
      "metadata": {
        "id": "view-in-github",
        "colab_type": "text"
      },
      "source": [
        "<a href=\"https://colab.research.google.com/github/Machocho254/MchezoPesa-Week-6-IP/blob/master/Moringa_DS_CORE_WEEK6_IP_January_2020_Machocho_Mengo.ipynb\" target=\"_parent\"><img src=\"https://colab.research.google.com/assets/colab-badge.svg\" alt=\"Open In Colab\"/></a>"
      ]
    },
    {
      "cell_type": "markdown",
      "metadata": {
        "id": "u0abk_KzKuc3",
        "colab_type": "text"
      },
      "source": [
        ""
      ]
    },
    {
      "cell_type": "markdown",
      "metadata": {
        "id": "pBHoB6Nckbe_",
        "colab_type": "text"
      },
      "source": [
        "## Research Question.\n",
        "Predict the result of a game between team 1 and team 2, based on who's home and who's away, and on whether or not the game is friendly - using five features i.e Home team, Away team, Tournament type, Rank of home team and Rank of away team\n",
        "\n",
        "\n",
        "---\n",
        "\n",
        "### Approach 1: Using Polynomial regression.\n",
        "Create a model that can predict how many goals the home team scores \n",
        "\n",
        "\n",
        "### Approach 2: Using Logistic Regression.\n",
        "Create a model that can predict whether the home team will win, draw or lose"
      ]
    },
    {
      "cell_type": "markdown",
      "metadata": {
        "id": "YrPDI4O3mo1j",
        "colab_type": "text"
      },
      "source": [
        "## Metric for Success\n",
        "For Polynomial regression, the Root Mean Squared Error will be used to measure the performace of the model.\n",
        "The predictive power of the logistic regression model will be measured using the accuracy score and the f1_score"
      ]
    },
    {
      "cell_type": "markdown",
      "metadata": {
        "id": "AF9kNvyO-KMR",
        "colab_type": "text"
      },
      "source": [
        "## **Reading and Previewing the datasets**"
      ]
    },
    {
      "cell_type": "code",
      "metadata": {
        "id": "jysVQMXT0Btl",
        "colab_type": "code",
        "colab": {}
      },
      "source": [
        "# Importing libraries\n",
        "import pandas as pd\n",
        "import numpy as np\n",
        "import seaborn as sns\n",
        "import matplotlib.pyplot as plt\n",
        "import scipy as sp\n",
        "from sklearn.preprocessing import StandardScaler, PolynomialFeatures\n",
        "from sklearn.model_selection import train_test_split, GridSearchCV, KFold, cross_val_score\n",
        "from sklearn.linear_model import LinearRegression, LogisticRegression\n",
        "from sklearn.metrics import mean_squared_error, accuracy_score, f1_score, confusion_matrix\n",
        "import requests\n",
        "from io import StringIO\n",
        "import datetime as dt\n",
        "%matplotlib inline\n",
        "import warnings\n",
        "warnings.filterwarnings('ignore')\n",
        "plt.style.use('ggplot')"
      ],
      "execution_count": 0,
      "outputs": []
    },
    {
      "cell_type": "code",
      "metadata": {
        "id": "q4l4s8321vDt",
        "colab_type": "code",
        "outputId": "ae1e50dc-c545-483d-d880-350f9f44ebc6",
        "colab": {
          "base_uri": "https://localhost:8080/",
          "height": 224
        }
      },
      "source": [
        "# Loading the data the fifa ranking dataset into a pandas dataframe\n",
        "# Previewing the first five rows of the dataset\n",
        "#\n",
        "# fifa_ranking_dataset_url = 'https://drive.google.com/file/d/1sMiLf1tsXVb4jbgKaHgSjZ6Js0ev7dIf/view?usp=sharing'\n",
        "\n",
        "ranking = pd.read_csv('/content/fifa_ranking.csv')\n",
        "ranking.head()"
      ],
      "execution_count": 16,
      "outputs": [
        {
          "output_type": "execute_result",
          "data": {
            "text/html": [
              "<div>\n",
              "<style scoped>\n",
              "    .dataframe tbody tr th:only-of-type {\n",
              "        vertical-align: middle;\n",
              "    }\n",
              "\n",
              "    .dataframe tbody tr th {\n",
              "        vertical-align: top;\n",
              "    }\n",
              "\n",
              "    .dataframe thead th {\n",
              "        text-align: right;\n",
              "    }\n",
              "</style>\n",
              "<table border=\"1\" class=\"dataframe\">\n",
              "  <thead>\n",
              "    <tr style=\"text-align: right;\">\n",
              "      <th></th>\n",
              "      <th>rank</th>\n",
              "      <th>country_full</th>\n",
              "      <th>country_abrv</th>\n",
              "      <th>total_points</th>\n",
              "      <th>previous_points</th>\n",
              "      <th>rank_change</th>\n",
              "      <th>cur_year_avg</th>\n",
              "      <th>cur_year_avg_weighted</th>\n",
              "      <th>last_year_avg</th>\n",
              "      <th>last_year_avg_weighted</th>\n",
              "      <th>two_year_ago_avg</th>\n",
              "      <th>two_year_ago_weighted</th>\n",
              "      <th>three_year_ago_avg</th>\n",
              "      <th>three_year_ago_weighted</th>\n",
              "      <th>confederation</th>\n",
              "      <th>rank_date</th>\n",
              "    </tr>\n",
              "  </thead>\n",
              "  <tbody>\n",
              "    <tr>\n",
              "      <th>0</th>\n",
              "      <td>1</td>\n",
              "      <td>Germany</td>\n",
              "      <td>GER</td>\n",
              "      <td>0.0</td>\n",
              "      <td>57</td>\n",
              "      <td>0</td>\n",
              "      <td>0.0</td>\n",
              "      <td>0.0</td>\n",
              "      <td>0.0</td>\n",
              "      <td>0.0</td>\n",
              "      <td>0.0</td>\n",
              "      <td>0.0</td>\n",
              "      <td>0.0</td>\n",
              "      <td>0.0</td>\n",
              "      <td>UEFA</td>\n",
              "      <td>1993-08-08</td>\n",
              "    </tr>\n",
              "    <tr>\n",
              "      <th>1</th>\n",
              "      <td>2</td>\n",
              "      <td>Italy</td>\n",
              "      <td>ITA</td>\n",
              "      <td>0.0</td>\n",
              "      <td>57</td>\n",
              "      <td>0</td>\n",
              "      <td>0.0</td>\n",
              "      <td>0.0</td>\n",
              "      <td>0.0</td>\n",
              "      <td>0.0</td>\n",
              "      <td>0.0</td>\n",
              "      <td>0.0</td>\n",
              "      <td>0.0</td>\n",
              "      <td>0.0</td>\n",
              "      <td>UEFA</td>\n",
              "      <td>1993-08-08</td>\n",
              "    </tr>\n",
              "    <tr>\n",
              "      <th>2</th>\n",
              "      <td>3</td>\n",
              "      <td>Switzerland</td>\n",
              "      <td>SUI</td>\n",
              "      <td>0.0</td>\n",
              "      <td>50</td>\n",
              "      <td>9</td>\n",
              "      <td>0.0</td>\n",
              "      <td>0.0</td>\n",
              "      <td>0.0</td>\n",
              "      <td>0.0</td>\n",
              "      <td>0.0</td>\n",
              "      <td>0.0</td>\n",
              "      <td>0.0</td>\n",
              "      <td>0.0</td>\n",
              "      <td>UEFA</td>\n",
              "      <td>1993-08-08</td>\n",
              "    </tr>\n",
              "    <tr>\n",
              "      <th>3</th>\n",
              "      <td>4</td>\n",
              "      <td>Sweden</td>\n",
              "      <td>SWE</td>\n",
              "      <td>0.0</td>\n",
              "      <td>55</td>\n",
              "      <td>0</td>\n",
              "      <td>0.0</td>\n",
              "      <td>0.0</td>\n",
              "      <td>0.0</td>\n",
              "      <td>0.0</td>\n",
              "      <td>0.0</td>\n",
              "      <td>0.0</td>\n",
              "      <td>0.0</td>\n",
              "      <td>0.0</td>\n",
              "      <td>UEFA</td>\n",
              "      <td>1993-08-08</td>\n",
              "    </tr>\n",
              "    <tr>\n",
              "      <th>4</th>\n",
              "      <td>5</td>\n",
              "      <td>Argentina</td>\n",
              "      <td>ARG</td>\n",
              "      <td>0.0</td>\n",
              "      <td>51</td>\n",
              "      <td>5</td>\n",
              "      <td>0.0</td>\n",
              "      <td>0.0</td>\n",
              "      <td>0.0</td>\n",
              "      <td>0.0</td>\n",
              "      <td>0.0</td>\n",
              "      <td>0.0</td>\n",
              "      <td>0.0</td>\n",
              "      <td>0.0</td>\n",
              "      <td>CONMEBOL</td>\n",
              "      <td>1993-08-08</td>\n",
              "    </tr>\n",
              "  </tbody>\n",
              "</table>\n",
              "</div>"
            ],
            "text/plain": [
              "   rank country_full  ... confederation   rank_date\n",
              "0     1      Germany  ...          UEFA  1993-08-08\n",
              "1     2        Italy  ...          UEFA  1993-08-08\n",
              "2     3  Switzerland  ...          UEFA  1993-08-08\n",
              "3     4       Sweden  ...          UEFA  1993-08-08\n",
              "4     5    Argentina  ...      CONMEBOL  1993-08-08\n",
              "\n",
              "[5 rows x 16 columns]"
            ]
          },
          "metadata": {
            "tags": []
          },
          "execution_count": 16
        }
      ]
    },
    {
      "cell_type": "code",
      "metadata": {
        "id": "IMpJwFHT1u_7",
        "colab_type": "code",
        "colab": {
          "base_uri": "https://localhost:8080/",
          "height": 374
        },
        "outputId": "fc6329c4-50b0-4b8b-da58-11d68f1ce1d0"
      },
      "source": [
        "# Previewing some information of the fifa ranking dataset\n",
        "#\n",
        "ranking.info()"
      ],
      "execution_count": 17,
      "outputs": [
        {
          "output_type": "stream",
          "text": [
            "<class 'pandas.core.frame.DataFrame'>\n",
            "RangeIndex: 57793 entries, 0 to 57792\n",
            "Data columns (total 16 columns):\n",
            "rank                       57793 non-null int64\n",
            "country_full               57793 non-null object\n",
            "country_abrv               57793 non-null object\n",
            "total_points               57793 non-null float64\n",
            "previous_points            57793 non-null int64\n",
            "rank_change                57793 non-null int64\n",
            "cur_year_avg               57793 non-null float64\n",
            "cur_year_avg_weighted      57793 non-null float64\n",
            "last_year_avg              57793 non-null float64\n",
            "last_year_avg_weighted     57793 non-null float64\n",
            "two_year_ago_avg           57793 non-null float64\n",
            "two_year_ago_weighted      57793 non-null float64\n",
            "three_year_ago_avg         57793 non-null float64\n",
            "three_year_ago_weighted    57793 non-null float64\n",
            "confederation              57793 non-null object\n",
            "rank_date                  57793 non-null object\n",
            "dtypes: float64(9), int64(3), object(4)\n",
            "memory usage: 7.1+ MB\n"
          ],
          "name": "stdout"
        }
      ]
    },
    {
      "cell_type": "code",
      "metadata": {
        "id": "1KyiBncG1u95",
        "colab_type": "code",
        "colab": {
          "base_uri": "https://localhost:8080/",
          "height": 317
        },
        "outputId": "87ad3ad4-7be8-4468-fadb-64cd52fb89a5"
      },
      "source": [
        "# Previewing some statistical summaries of the fifa ranking dataset\n",
        "#\n",
        "ranking.describe()"
      ],
      "execution_count": 18,
      "outputs": [
        {
          "output_type": "execute_result",
          "data": {
            "text/html": [
              "<div>\n",
              "<style scoped>\n",
              "    .dataframe tbody tr th:only-of-type {\n",
              "        vertical-align: middle;\n",
              "    }\n",
              "\n",
              "    .dataframe tbody tr th {\n",
              "        vertical-align: top;\n",
              "    }\n",
              "\n",
              "    .dataframe thead th {\n",
              "        text-align: right;\n",
              "    }\n",
              "</style>\n",
              "<table border=\"1\" class=\"dataframe\">\n",
              "  <thead>\n",
              "    <tr style=\"text-align: right;\">\n",
              "      <th></th>\n",
              "      <th>rank</th>\n",
              "      <th>total_points</th>\n",
              "      <th>previous_points</th>\n",
              "      <th>rank_change</th>\n",
              "      <th>cur_year_avg</th>\n",
              "      <th>cur_year_avg_weighted</th>\n",
              "      <th>last_year_avg</th>\n",
              "      <th>last_year_avg_weighted</th>\n",
              "      <th>two_year_ago_avg</th>\n",
              "      <th>two_year_ago_weighted</th>\n",
              "      <th>three_year_ago_avg</th>\n",
              "      <th>three_year_ago_weighted</th>\n",
              "    </tr>\n",
              "  </thead>\n",
              "  <tbody>\n",
              "    <tr>\n",
              "      <th>count</th>\n",
              "      <td>57793.000000</td>\n",
              "      <td>57793.000000</td>\n",
              "      <td>57793.000000</td>\n",
              "      <td>57793.000000</td>\n",
              "      <td>57793.000000</td>\n",
              "      <td>57793.000000</td>\n",
              "      <td>57793.000000</td>\n",
              "      <td>57793.000000</td>\n",
              "      <td>57793.000000</td>\n",
              "      <td>57793.000000</td>\n",
              "      <td>57793.000000</td>\n",
              "      <td>57793.000000</td>\n",
              "    </tr>\n",
              "    <tr>\n",
              "      <th>mean</th>\n",
              "      <td>101.628086</td>\n",
              "      <td>122.068637</td>\n",
              "      <td>332.302926</td>\n",
              "      <td>-0.009897</td>\n",
              "      <td>61.798602</td>\n",
              "      <td>61.798602</td>\n",
              "      <td>61.004602</td>\n",
              "      <td>30.502377</td>\n",
              "      <td>59.777462</td>\n",
              "      <td>17.933277</td>\n",
              "      <td>59.173916</td>\n",
              "      <td>11.834811</td>\n",
              "    </tr>\n",
              "    <tr>\n",
              "      <th>std</th>\n",
              "      <td>58.618424</td>\n",
              "      <td>260.426863</td>\n",
              "      <td>302.872948</td>\n",
              "      <td>5.804309</td>\n",
              "      <td>138.014883</td>\n",
              "      <td>138.014883</td>\n",
              "      <td>137.688204</td>\n",
              "      <td>68.844143</td>\n",
              "      <td>136.296079</td>\n",
              "      <td>40.888849</td>\n",
              "      <td>135.533343</td>\n",
              "      <td>27.106675</td>\n",
              "    </tr>\n",
              "    <tr>\n",
              "      <th>min</th>\n",
              "      <td>1.000000</td>\n",
              "      <td>0.000000</td>\n",
              "      <td>0.000000</td>\n",
              "      <td>-72.000000</td>\n",
              "      <td>0.000000</td>\n",
              "      <td>0.000000</td>\n",
              "      <td>0.000000</td>\n",
              "      <td>0.000000</td>\n",
              "      <td>0.000000</td>\n",
              "      <td>0.000000</td>\n",
              "      <td>0.000000</td>\n",
              "      <td>0.000000</td>\n",
              "    </tr>\n",
              "    <tr>\n",
              "      <th>25%</th>\n",
              "      <td>51.000000</td>\n",
              "      <td>0.000000</td>\n",
              "      <td>56.000000</td>\n",
              "      <td>-2.000000</td>\n",
              "      <td>0.000000</td>\n",
              "      <td>0.000000</td>\n",
              "      <td>0.000000</td>\n",
              "      <td>0.000000</td>\n",
              "      <td>0.000000</td>\n",
              "      <td>0.000000</td>\n",
              "      <td>0.000000</td>\n",
              "      <td>0.000000</td>\n",
              "    </tr>\n",
              "    <tr>\n",
              "      <th>50%</th>\n",
              "      <td>101.000000</td>\n",
              "      <td>0.000000</td>\n",
              "      <td>272.000000</td>\n",
              "      <td>0.000000</td>\n",
              "      <td>0.000000</td>\n",
              "      <td>0.000000</td>\n",
              "      <td>0.000000</td>\n",
              "      <td>0.000000</td>\n",
              "      <td>0.000000</td>\n",
              "      <td>0.000000</td>\n",
              "      <td>0.000000</td>\n",
              "      <td>0.000000</td>\n",
              "    </tr>\n",
              "    <tr>\n",
              "      <th>75%</th>\n",
              "      <td>152.000000</td>\n",
              "      <td>92.790000</td>\n",
              "      <td>525.000000</td>\n",
              "      <td>1.000000</td>\n",
              "      <td>32.250000</td>\n",
              "      <td>32.250000</td>\n",
              "      <td>26.660000</td>\n",
              "      <td>13.330000</td>\n",
              "      <td>21.500000</td>\n",
              "      <td>6.450000</td>\n",
              "      <td>21.250000</td>\n",
              "      <td>4.250000</td>\n",
              "    </tr>\n",
              "    <tr>\n",
              "      <th>max</th>\n",
              "      <td>209.000000</td>\n",
              "      <td>1775.030000</td>\n",
              "      <td>1920.000000</td>\n",
              "      <td>92.000000</td>\n",
              "      <td>1158.660000</td>\n",
              "      <td>1158.660000</td>\n",
              "      <td>1169.570000</td>\n",
              "      <td>584.790000</td>\n",
              "      <td>1159.710000</td>\n",
              "      <td>347.910000</td>\n",
              "      <td>1200.770000</td>\n",
              "      <td>240.150000</td>\n",
              "    </tr>\n",
              "  </tbody>\n",
              "</table>\n",
              "</div>"
            ],
            "text/plain": [
              "               rank  total_points  ...  three_year_ago_avg  three_year_ago_weighted\n",
              "count  57793.000000  57793.000000  ...        57793.000000             57793.000000\n",
              "mean     101.628086    122.068637  ...           59.173916                11.834811\n",
              "std       58.618424    260.426863  ...          135.533343                27.106675\n",
              "min        1.000000      0.000000  ...            0.000000                 0.000000\n",
              "25%       51.000000      0.000000  ...            0.000000                 0.000000\n",
              "50%      101.000000      0.000000  ...            0.000000                 0.000000\n",
              "75%      152.000000     92.790000  ...           21.250000                 4.250000\n",
              "max      209.000000   1775.030000  ...         1200.770000               240.150000\n",
              "\n",
              "[8 rows x 12 columns]"
            ]
          },
          "metadata": {
            "tags": []
          },
          "execution_count": 18
        }
      ]
    },
    {
      "cell_type": "code",
      "metadata": {
        "id": "kJWXC1J11u8U",
        "colab_type": "code",
        "colab": {
          "base_uri": "https://localhost:8080/",
          "height": 306
        },
        "outputId": "e7a24cff-11a3-4bed-e861-c6382fa098a9"
      },
      "source": [
        "# Checking for missing values of the fifa ranking dataset\n",
        "#\n",
        "ranking.isnull().sum()"
      ],
      "execution_count": 19,
      "outputs": [
        {
          "output_type": "execute_result",
          "data": {
            "text/plain": [
              "rank                       0\n",
              "country_full               0\n",
              "country_abrv               0\n",
              "total_points               0\n",
              "previous_points            0\n",
              "rank_change                0\n",
              "cur_year_avg               0\n",
              "cur_year_avg_weighted      0\n",
              "last_year_avg              0\n",
              "last_year_avg_weighted     0\n",
              "two_year_ago_avg           0\n",
              "two_year_ago_weighted      0\n",
              "three_year_ago_avg         0\n",
              "three_year_ago_weighted    0\n",
              "confederation              0\n",
              "rank_date                  0\n",
              "dtype: int64"
            ]
          },
          "metadata": {
            "tags": []
          },
          "execution_count": 19
        }
      ]
    },
    {
      "cell_type": "code",
      "metadata": {
        "id": "7XEOKZC0nljH",
        "colab_type": "code",
        "colab": {
          "base_uri": "https://localhost:8080/",
          "height": 34
        },
        "outputId": "a3147366-5862-4064-d68c-3dee73e319bc"
      },
      "source": [
        "# Checking for duplicates\n",
        "#\n",
        "ranking.duplicated().any()"
      ],
      "execution_count": 20,
      "outputs": [
        {
          "output_type": "execute_result",
          "data": {
            "text/plain": [
              "True"
            ]
          },
          "metadata": {
            "tags": []
          },
          "execution_count": 20
        }
      ]
    },
    {
      "cell_type": "code",
      "metadata": {
        "id": "tl0C3fAFn2qL",
        "colab_type": "code",
        "colab": {}
      },
      "source": [
        "# Removing duplicates\n",
        "\n",
        "ranking.drop_duplicates(keep='first', inplace = True)"
      ],
      "execution_count": 0,
      "outputs": []
    },
    {
      "cell_type": "code",
      "metadata": {
        "id": "2vNGqLf3pBoI",
        "colab_type": "code",
        "colab": {
          "base_uri": "https://localhost:8080/",
          "height": 34
        },
        "outputId": "b7339ae3-e63f-41ad-f34c-27dacf3b7151"
      },
      "source": [
        "# Checking whether the duplicates have been removed\n",
        "#\n",
        "ranking.duplicated().any()"
      ],
      "execution_count": 22,
      "outputs": [
        {
          "output_type": "execute_result",
          "data": {
            "text/plain": [
              "False"
            ]
          },
          "metadata": {
            "tags": []
          },
          "execution_count": 22
        }
      ]
    },
    {
      "cell_type": "code",
      "metadata": {
        "id": "87qIxnEk1u3S",
        "colab_type": "code",
        "colab": {
          "base_uri": "https://localhost:8080/",
          "height": 204
        },
        "outputId": "924a1894-241e-496b-bba9-1d37e17a2d92"
      },
      "source": [
        "# Loading the results dataset into a pandas dataframe\n",
        "# Previewing the first five rows of the dataset\n",
        "#\n",
        "\n",
        "# results_dataset_url = 'https://drive.google.com/file/d/1ta3oG4bTsqM1GVgTuq0ElRaLJHb1oZRl/view?usp=sharing'\n",
        "\n",
        "results = pd.read_csv('/content/results.csv')\n",
        "results.head()"
      ],
      "execution_count": 23,
      "outputs": [
        {
          "output_type": "execute_result",
          "data": {
            "text/html": [
              "<div>\n",
              "<style scoped>\n",
              "    .dataframe tbody tr th:only-of-type {\n",
              "        vertical-align: middle;\n",
              "    }\n",
              "\n",
              "    .dataframe tbody tr th {\n",
              "        vertical-align: top;\n",
              "    }\n",
              "\n",
              "    .dataframe thead th {\n",
              "        text-align: right;\n",
              "    }\n",
              "</style>\n",
              "<table border=\"1\" class=\"dataframe\">\n",
              "  <thead>\n",
              "    <tr style=\"text-align: right;\">\n",
              "      <th></th>\n",
              "      <th>date</th>\n",
              "      <th>home_team</th>\n",
              "      <th>away_team</th>\n",
              "      <th>home_score</th>\n",
              "      <th>away_score</th>\n",
              "      <th>tournament</th>\n",
              "      <th>city</th>\n",
              "      <th>country</th>\n",
              "      <th>neutral</th>\n",
              "    </tr>\n",
              "  </thead>\n",
              "  <tbody>\n",
              "    <tr>\n",
              "      <th>0</th>\n",
              "      <td>1872-11-30</td>\n",
              "      <td>Scotland</td>\n",
              "      <td>England</td>\n",
              "      <td>0</td>\n",
              "      <td>0</td>\n",
              "      <td>Friendly</td>\n",
              "      <td>Glasgow</td>\n",
              "      <td>Scotland</td>\n",
              "      <td>False</td>\n",
              "    </tr>\n",
              "    <tr>\n",
              "      <th>1</th>\n",
              "      <td>1873-03-08</td>\n",
              "      <td>England</td>\n",
              "      <td>Scotland</td>\n",
              "      <td>4</td>\n",
              "      <td>2</td>\n",
              "      <td>Friendly</td>\n",
              "      <td>London</td>\n",
              "      <td>England</td>\n",
              "      <td>False</td>\n",
              "    </tr>\n",
              "    <tr>\n",
              "      <th>2</th>\n",
              "      <td>1874-03-07</td>\n",
              "      <td>Scotland</td>\n",
              "      <td>England</td>\n",
              "      <td>2</td>\n",
              "      <td>1</td>\n",
              "      <td>Friendly</td>\n",
              "      <td>Glasgow</td>\n",
              "      <td>Scotland</td>\n",
              "      <td>False</td>\n",
              "    </tr>\n",
              "    <tr>\n",
              "      <th>3</th>\n",
              "      <td>1875-03-06</td>\n",
              "      <td>England</td>\n",
              "      <td>Scotland</td>\n",
              "      <td>2</td>\n",
              "      <td>2</td>\n",
              "      <td>Friendly</td>\n",
              "      <td>London</td>\n",
              "      <td>England</td>\n",
              "      <td>False</td>\n",
              "    </tr>\n",
              "    <tr>\n",
              "      <th>4</th>\n",
              "      <td>1876-03-04</td>\n",
              "      <td>Scotland</td>\n",
              "      <td>England</td>\n",
              "      <td>3</td>\n",
              "      <td>0</td>\n",
              "      <td>Friendly</td>\n",
              "      <td>Glasgow</td>\n",
              "      <td>Scotland</td>\n",
              "      <td>False</td>\n",
              "    </tr>\n",
              "  </tbody>\n",
              "</table>\n",
              "</div>"
            ],
            "text/plain": [
              "         date home_team away_team  ...     city   country neutral\n",
              "0  1872-11-30  Scotland   England  ...  Glasgow  Scotland   False\n",
              "1  1873-03-08   England  Scotland  ...   London   England   False\n",
              "2  1874-03-07  Scotland   England  ...  Glasgow  Scotland   False\n",
              "3  1875-03-06   England  Scotland  ...   London   England   False\n",
              "4  1876-03-04  Scotland   England  ...  Glasgow  Scotland   False\n",
              "\n",
              "[5 rows x 9 columns]"
            ]
          },
          "metadata": {
            "tags": []
          },
          "execution_count": 23
        }
      ]
    },
    {
      "cell_type": "code",
      "metadata": {
        "id": "l1gmnyyR6QSG",
        "colab_type": "code",
        "colab": {
          "base_uri": "https://localhost:8080/",
          "height": 255
        },
        "outputId": "9abece1f-52af-4244-d8e4-5792a0b2ba35"
      },
      "source": [
        "# Previewing some information of the results dataset\n",
        "#\n",
        "results.info()"
      ],
      "execution_count": 24,
      "outputs": [
        {
          "output_type": "stream",
          "text": [
            "<class 'pandas.core.frame.DataFrame'>\n",
            "RangeIndex: 40839 entries, 0 to 40838\n",
            "Data columns (total 9 columns):\n",
            "date          40839 non-null object\n",
            "home_team     40839 non-null object\n",
            "away_team     40839 non-null object\n",
            "home_score    40839 non-null int64\n",
            "away_score    40839 non-null int64\n",
            "tournament    40839 non-null object\n",
            "city          40839 non-null object\n",
            "country       40839 non-null object\n",
            "neutral       40839 non-null bool\n",
            "dtypes: bool(1), int64(2), object(6)\n",
            "memory usage: 2.5+ MB\n"
          ],
          "name": "stdout"
        }
      ]
    },
    {
      "cell_type": "code",
      "metadata": {
        "id": "XiYtvXQd6QPC",
        "colab_type": "code",
        "colab": {
          "base_uri": "https://localhost:8080/",
          "height": 297
        },
        "outputId": "0142e781-220d-4fb2-b813-21a9691700ad"
      },
      "source": [
        "# Previewing some statistical summaries of the results dataset\n",
        "#\n",
        "results.describe()"
      ],
      "execution_count": 25,
      "outputs": [
        {
          "output_type": "execute_result",
          "data": {
            "text/html": [
              "<div>\n",
              "<style scoped>\n",
              "    .dataframe tbody tr th:only-of-type {\n",
              "        vertical-align: middle;\n",
              "    }\n",
              "\n",
              "    .dataframe tbody tr th {\n",
              "        vertical-align: top;\n",
              "    }\n",
              "\n",
              "    .dataframe thead th {\n",
              "        text-align: right;\n",
              "    }\n",
              "</style>\n",
              "<table border=\"1\" class=\"dataframe\">\n",
              "  <thead>\n",
              "    <tr style=\"text-align: right;\">\n",
              "      <th></th>\n",
              "      <th>home_score</th>\n",
              "      <th>away_score</th>\n",
              "    </tr>\n",
              "  </thead>\n",
              "  <tbody>\n",
              "    <tr>\n",
              "      <th>count</th>\n",
              "      <td>40839.000000</td>\n",
              "      <td>40839.000000</td>\n",
              "    </tr>\n",
              "    <tr>\n",
              "      <th>mean</th>\n",
              "      <td>1.745709</td>\n",
              "      <td>1.188105</td>\n",
              "    </tr>\n",
              "    <tr>\n",
              "      <th>std</th>\n",
              "      <td>1.749145</td>\n",
              "      <td>1.405120</td>\n",
              "    </tr>\n",
              "    <tr>\n",
              "      <th>min</th>\n",
              "      <td>0.000000</td>\n",
              "      <td>0.000000</td>\n",
              "    </tr>\n",
              "    <tr>\n",
              "      <th>25%</th>\n",
              "      <td>1.000000</td>\n",
              "      <td>0.000000</td>\n",
              "    </tr>\n",
              "    <tr>\n",
              "      <th>50%</th>\n",
              "      <td>1.000000</td>\n",
              "      <td>1.000000</td>\n",
              "    </tr>\n",
              "    <tr>\n",
              "      <th>75%</th>\n",
              "      <td>2.000000</td>\n",
              "      <td>2.000000</td>\n",
              "    </tr>\n",
              "    <tr>\n",
              "      <th>max</th>\n",
              "      <td>31.000000</td>\n",
              "      <td>21.000000</td>\n",
              "    </tr>\n",
              "  </tbody>\n",
              "</table>\n",
              "</div>"
            ],
            "text/plain": [
              "         home_score    away_score\n",
              "count  40839.000000  40839.000000\n",
              "mean       1.745709      1.188105\n",
              "std        1.749145      1.405120\n",
              "min        0.000000      0.000000\n",
              "25%        1.000000      0.000000\n",
              "50%        1.000000      1.000000\n",
              "75%        2.000000      2.000000\n",
              "max       31.000000     21.000000"
            ]
          },
          "metadata": {
            "tags": []
          },
          "execution_count": 25
        }
      ]
    },
    {
      "cell_type": "code",
      "metadata": {
        "id": "oX_VzdYw6QNO",
        "colab_type": "code",
        "colab": {
          "base_uri": "https://localhost:8080/",
          "height": 187
        },
        "outputId": "4efd03e1-d165-4df1-d063-471729122cb5"
      },
      "source": [
        "# Checking for missing values of the results dataset\n",
        "#\n",
        "results.isnull().sum()"
      ],
      "execution_count": 26,
      "outputs": [
        {
          "output_type": "execute_result",
          "data": {
            "text/plain": [
              "date          0\n",
              "home_team     0\n",
              "away_team     0\n",
              "home_score    0\n",
              "away_score    0\n",
              "tournament    0\n",
              "city          0\n",
              "country       0\n",
              "neutral       0\n",
              "dtype: int64"
            ]
          },
          "metadata": {
            "tags": []
          },
          "execution_count": 26
        }
      ]
    },
    {
      "cell_type": "code",
      "metadata": {
        "id": "GyAOEZ1snuwe",
        "colab_type": "code",
        "colab": {
          "base_uri": "https://localhost:8080/",
          "height": 34
        },
        "outputId": "53bbe2bb-8f70-4e30-a02d-2414064b590b"
      },
      "source": [
        "# Checking for duplicates\n",
        "#\n",
        "results.duplicated().any()"
      ],
      "execution_count": 27,
      "outputs": [
        {
          "output_type": "execute_result",
          "data": {
            "text/plain": [
              "False"
            ]
          },
          "metadata": {
            "tags": []
          },
          "execution_count": 27
        }
      ]
    },
    {
      "cell_type": "markdown",
      "metadata": {
        "id": "uhGUtTQj-42P",
        "colab_type": "text"
      },
      "source": [
        "### **Changing dates to Datetime objects**\n"
      ]
    },
    {
      "cell_type": "code",
      "metadata": {
        "id": "tHgWW0ua_fqt",
        "colab_type": "code",
        "colab": {}
      },
      "source": [
        "# Renaming the rank_date column\n",
        "#\n",
        "ranking.rank_date = ranking.rename({'rank_date': 'date'}, axis = 1, inplace = True)"
      ],
      "execution_count": 0,
      "outputs": []
    },
    {
      "cell_type": "code",
      "metadata": {
        "id": "6gb0BRxwsrYR",
        "colab_type": "code",
        "colab": {}
      },
      "source": [
        "# Making the date columns uniform\n",
        "#\n",
        "results.date = results.date.apply(lambda x: x.replace('/', '-'))\n",
        "ranking.date = ranking.date.apply(lambda x: x.replace('/', '-'))"
      ],
      "execution_count": 0,
      "outputs": []
    },
    {
      "cell_type": "code",
      "metadata": {
        "id": "4UUEsuYJnMv3",
        "colab_type": "code",
        "colab": {}
      },
      "source": [
        "# Changing the date columns to datetime objects\n",
        "#\n",
        "ranking.date = pd.to_datetime(ranking.date)\n",
        "results.date = pd.to_datetime(results.date)\n",
        "\n",
        "# Creating a year and month column from the datetime object\n",
        "#\n",
        "ranking['year'] = ranking.date.dt.year\n",
        "results['year'] = results.date.dt.year\n",
        "\n",
        "ranking['month'] = ranking.date.dt.month\n",
        "results['month'] = ranking.date.dt.month"
      ],
      "execution_count": 0,
      "outputs": []
    },
    {
      "cell_type": "code",
      "metadata": {
        "id": "LAk3H7f_srWW",
        "colab_type": "code",
        "colab": {
          "base_uri": "https://localhost:8080/",
          "height": 68
        },
        "outputId": "7d7238bb-d15b-4340-f78e-892e064f4c15"
      },
      "source": [
        "# Checking the unique years in the ranking dataset\n",
        "#\n",
        "ranking.year.unique()"
      ],
      "execution_count": 31,
      "outputs": [
        {
          "output_type": "execute_result",
          "data": {
            "text/plain": [
              "array([1993, 1994, 1995, 1996, 1997, 1998, 1999, 2000, 2001, 2002, 2003,\n",
              "       2004, 2005, 2006, 2007, 2008, 2009, 2010, 2011, 2012, 2013, 2014,\n",
              "       2015, 2016, 2017, 2018])"
            ]
          },
          "metadata": {
            "tags": []
          },
          "execution_count": 31
        }
      ]
    },
    {
      "cell_type": "code",
      "metadata": {
        "id": "5ALmAa_iPtLS",
        "colab_type": "code",
        "colab": {
          "base_uri": "https://localhost:8080/",
          "height": 255
        },
        "outputId": "16d34340-7e4d-4876-d31f-49a904faa447"
      },
      "source": [
        "# Checking the unique years in the results dataset\n",
        "#\n",
        "results.year.unique()"
      ],
      "execution_count": 32,
      "outputs": [
        {
          "output_type": "execute_result",
          "data": {
            "text/plain": [
              "array([1872, 1873, 1874, 1875, 1876, 1877, 1878, 1879, 1880, 1881, 1882,\n",
              "       1883, 1884, 1885, 1886, 1887, 1888, 1889, 1890, 1891, 1892, 1893,\n",
              "       1894, 1895, 1896, 1897, 1898, 1899, 1900, 1901, 1902, 1903, 1904,\n",
              "       1905, 1906, 1907, 1908, 1909, 1910, 1911, 1912, 1913, 1914, 1915,\n",
              "       1916, 1917, 1918, 1919, 1920, 1921, 1922, 1923, 1924, 1925, 1926,\n",
              "       1927, 1928, 1929, 1930, 1931, 1932, 1933, 1934, 1935, 1936, 1937,\n",
              "       1938, 1939, 1940, 1941, 1942, 1943, 1944, 1945, 1946, 1947, 1948,\n",
              "       1949, 1950, 1951, 1952, 1953, 1954, 1955, 1956, 1957, 1958, 1959,\n",
              "       1960, 1961, 1962, 1963, 1964, 1965, 1966, 1967, 1968, 1969, 1970,\n",
              "       1971, 1972, 1973, 1974, 1975, 1976, 1977, 1978, 1979, 1980, 1981,\n",
              "       1982, 1983, 1984, 1985, 1986, 1987, 1988, 1989, 1990, 1991, 1992,\n",
              "       1993, 1994, 1995, 1996, 1997, 1998, 1999, 2000, 2001, 2002, 2003,\n",
              "       2004, 2005, 2006, 2007, 2008, 2009, 2010, 2011, 2012, 2013, 2014,\n",
              "       2015, 2016, 2017, 2018, 2019])"
            ]
          },
          "metadata": {
            "tags": []
          },
          "execution_count": 32
        }
      ]
    },
    {
      "cell_type": "markdown",
      "metadata": {
        "id": "C4cEBqQmIv0S",
        "colab_type": "text"
      },
      "source": [
        "### **MERGING DATAFRAMES AND FEATURE ENGINEERING**"
      ]
    },
    {
      "cell_type": "code",
      "metadata": {
        "id": "Ec7w46c0Ps_b",
        "colab_type": "code",
        "colab": {}
      },
      "source": [
        "# Merging the results dataframe to the ranking dataframe\n",
        "# The dataframes have been merged on both year and month\n",
        "#\n",
        "combined_df = pd.merge(results, ranking, how = 'left', left_on = ['year', 'month'], right_on = ['year', 'month'])"
      ],
      "execution_count": 0,
      "outputs": []
    },
    {
      "cell_type": "code",
      "metadata": {
        "id": "4e6TBbp7Ps7G",
        "colab_type": "code",
        "colab": {
          "base_uri": "https://localhost:8080/",
          "height": 309
        },
        "outputId": "b0e3cfff-207a-4ca3-c31a-2fd72e420352"
      },
      "source": [
        "# Previewing the first five columns of the combined dataset\n",
        "#\n",
        "combined_df.head()"
      ],
      "execution_count": 34,
      "outputs": [
        {
          "output_type": "execute_result",
          "data": {
            "text/html": [
              "<div>\n",
              "<style scoped>\n",
              "    .dataframe tbody tr th:only-of-type {\n",
              "        vertical-align: middle;\n",
              "    }\n",
              "\n",
              "    .dataframe tbody tr th {\n",
              "        vertical-align: top;\n",
              "    }\n",
              "\n",
              "    .dataframe thead th {\n",
              "        text-align: right;\n",
              "    }\n",
              "</style>\n",
              "<table border=\"1\" class=\"dataframe\">\n",
              "  <thead>\n",
              "    <tr style=\"text-align: right;\">\n",
              "      <th></th>\n",
              "      <th>date_x</th>\n",
              "      <th>home_team</th>\n",
              "      <th>away_team</th>\n",
              "      <th>home_score</th>\n",
              "      <th>away_score</th>\n",
              "      <th>tournament</th>\n",
              "      <th>city</th>\n",
              "      <th>country</th>\n",
              "      <th>neutral</th>\n",
              "      <th>year</th>\n",
              "      <th>month</th>\n",
              "      <th>rank</th>\n",
              "      <th>country_full</th>\n",
              "      <th>country_abrv</th>\n",
              "      <th>total_points</th>\n",
              "      <th>previous_points</th>\n",
              "      <th>rank_change</th>\n",
              "      <th>cur_year_avg</th>\n",
              "      <th>cur_year_avg_weighted</th>\n",
              "      <th>last_year_avg</th>\n",
              "      <th>last_year_avg_weighted</th>\n",
              "      <th>two_year_ago_avg</th>\n",
              "      <th>two_year_ago_weighted</th>\n",
              "      <th>three_year_ago_avg</th>\n",
              "      <th>three_year_ago_weighted</th>\n",
              "      <th>confederation</th>\n",
              "      <th>date_y</th>\n",
              "    </tr>\n",
              "  </thead>\n",
              "  <tbody>\n",
              "    <tr>\n",
              "      <th>0</th>\n",
              "      <td>1872-11-30</td>\n",
              "      <td>Scotland</td>\n",
              "      <td>England</td>\n",
              "      <td>0</td>\n",
              "      <td>0</td>\n",
              "      <td>Friendly</td>\n",
              "      <td>Glasgow</td>\n",
              "      <td>Scotland</td>\n",
              "      <td>False</td>\n",
              "      <td>1872</td>\n",
              "      <td>8</td>\n",
              "      <td>NaN</td>\n",
              "      <td>NaN</td>\n",
              "      <td>NaN</td>\n",
              "      <td>NaN</td>\n",
              "      <td>NaN</td>\n",
              "      <td>NaN</td>\n",
              "      <td>NaN</td>\n",
              "      <td>NaN</td>\n",
              "      <td>NaN</td>\n",
              "      <td>NaN</td>\n",
              "      <td>NaN</td>\n",
              "      <td>NaN</td>\n",
              "      <td>NaN</td>\n",
              "      <td>NaN</td>\n",
              "      <td>NaN</td>\n",
              "      <td>NaT</td>\n",
              "    </tr>\n",
              "    <tr>\n",
              "      <th>1</th>\n",
              "      <td>1873-03-08</td>\n",
              "      <td>England</td>\n",
              "      <td>Scotland</td>\n",
              "      <td>4</td>\n",
              "      <td>2</td>\n",
              "      <td>Friendly</td>\n",
              "      <td>London</td>\n",
              "      <td>England</td>\n",
              "      <td>False</td>\n",
              "      <td>1873</td>\n",
              "      <td>8</td>\n",
              "      <td>NaN</td>\n",
              "      <td>NaN</td>\n",
              "      <td>NaN</td>\n",
              "      <td>NaN</td>\n",
              "      <td>NaN</td>\n",
              "      <td>NaN</td>\n",
              "      <td>NaN</td>\n",
              "      <td>NaN</td>\n",
              "      <td>NaN</td>\n",
              "      <td>NaN</td>\n",
              "      <td>NaN</td>\n",
              "      <td>NaN</td>\n",
              "      <td>NaN</td>\n",
              "      <td>NaN</td>\n",
              "      <td>NaN</td>\n",
              "      <td>NaT</td>\n",
              "    </tr>\n",
              "    <tr>\n",
              "      <th>2</th>\n",
              "      <td>1874-03-07</td>\n",
              "      <td>Scotland</td>\n",
              "      <td>England</td>\n",
              "      <td>2</td>\n",
              "      <td>1</td>\n",
              "      <td>Friendly</td>\n",
              "      <td>Glasgow</td>\n",
              "      <td>Scotland</td>\n",
              "      <td>False</td>\n",
              "      <td>1874</td>\n",
              "      <td>8</td>\n",
              "      <td>NaN</td>\n",
              "      <td>NaN</td>\n",
              "      <td>NaN</td>\n",
              "      <td>NaN</td>\n",
              "      <td>NaN</td>\n",
              "      <td>NaN</td>\n",
              "      <td>NaN</td>\n",
              "      <td>NaN</td>\n",
              "      <td>NaN</td>\n",
              "      <td>NaN</td>\n",
              "      <td>NaN</td>\n",
              "      <td>NaN</td>\n",
              "      <td>NaN</td>\n",
              "      <td>NaN</td>\n",
              "      <td>NaN</td>\n",
              "      <td>NaT</td>\n",
              "    </tr>\n",
              "    <tr>\n",
              "      <th>3</th>\n",
              "      <td>1875-03-06</td>\n",
              "      <td>England</td>\n",
              "      <td>Scotland</td>\n",
              "      <td>2</td>\n",
              "      <td>2</td>\n",
              "      <td>Friendly</td>\n",
              "      <td>London</td>\n",
              "      <td>England</td>\n",
              "      <td>False</td>\n",
              "      <td>1875</td>\n",
              "      <td>8</td>\n",
              "      <td>NaN</td>\n",
              "      <td>NaN</td>\n",
              "      <td>NaN</td>\n",
              "      <td>NaN</td>\n",
              "      <td>NaN</td>\n",
              "      <td>NaN</td>\n",
              "      <td>NaN</td>\n",
              "      <td>NaN</td>\n",
              "      <td>NaN</td>\n",
              "      <td>NaN</td>\n",
              "      <td>NaN</td>\n",
              "      <td>NaN</td>\n",
              "      <td>NaN</td>\n",
              "      <td>NaN</td>\n",
              "      <td>NaN</td>\n",
              "      <td>NaT</td>\n",
              "    </tr>\n",
              "    <tr>\n",
              "      <th>4</th>\n",
              "      <td>1876-03-04</td>\n",
              "      <td>Scotland</td>\n",
              "      <td>England</td>\n",
              "      <td>3</td>\n",
              "      <td>0</td>\n",
              "      <td>Friendly</td>\n",
              "      <td>Glasgow</td>\n",
              "      <td>Scotland</td>\n",
              "      <td>False</td>\n",
              "      <td>1876</td>\n",
              "      <td>8</td>\n",
              "      <td>NaN</td>\n",
              "      <td>NaN</td>\n",
              "      <td>NaN</td>\n",
              "      <td>NaN</td>\n",
              "      <td>NaN</td>\n",
              "      <td>NaN</td>\n",
              "      <td>NaN</td>\n",
              "      <td>NaN</td>\n",
              "      <td>NaN</td>\n",
              "      <td>NaN</td>\n",
              "      <td>NaN</td>\n",
              "      <td>NaN</td>\n",
              "      <td>NaN</td>\n",
              "      <td>NaN</td>\n",
              "      <td>NaN</td>\n",
              "      <td>NaT</td>\n",
              "    </tr>\n",
              "  </tbody>\n",
              "</table>\n",
              "</div>"
            ],
            "text/plain": [
              "      date_x home_team away_team  ...  three_year_ago_weighted  confederation date_y\n",
              "0 1872-11-30  Scotland   England  ...                      NaN            NaN    NaT\n",
              "1 1873-03-08   England  Scotland  ...                      NaN            NaN    NaT\n",
              "2 1874-03-07  Scotland   England  ...                      NaN            NaN    NaT\n",
              "3 1875-03-06   England  Scotland  ...                      NaN            NaN    NaT\n",
              "4 1876-03-04  Scotland   England  ...                      NaN            NaN    NaT\n",
              "\n",
              "[5 rows x 27 columns]"
            ]
          },
          "metadata": {
            "tags": []
          },
          "execution_count": 34
        }
      ]
    },
    {
      "cell_type": "code",
      "metadata": {
        "id": "uOBN6L3ePs5U",
        "colab_type": "code",
        "colab": {
          "base_uri": "https://localhost:8080/",
          "height": 309
        },
        "outputId": "9a189f9b-411a-4c06-df9d-d96930d2d667"
      },
      "source": [
        "# Selecting the ranking details of the home team only\n",
        "#\n",
        "home_df = combined_df[combined_df.home_team == combined_df.country_full]\n",
        "#previewing the first five rows of the home_combined dataframe\n",
        "#\n",
        "home_df.head()"
      ],
      "execution_count": 35,
      "outputs": [
        {
          "output_type": "execute_result",
          "data": {
            "text/html": [
              "<div>\n",
              "<style scoped>\n",
              "    .dataframe tbody tr th:only-of-type {\n",
              "        vertical-align: middle;\n",
              "    }\n",
              "\n",
              "    .dataframe tbody tr th {\n",
              "        vertical-align: top;\n",
              "    }\n",
              "\n",
              "    .dataframe thead th {\n",
              "        text-align: right;\n",
              "    }\n",
              "</style>\n",
              "<table border=\"1\" class=\"dataframe\">\n",
              "  <thead>\n",
              "    <tr style=\"text-align: right;\">\n",
              "      <th></th>\n",
              "      <th>date_x</th>\n",
              "      <th>home_team</th>\n",
              "      <th>away_team</th>\n",
              "      <th>home_score</th>\n",
              "      <th>away_score</th>\n",
              "      <th>tournament</th>\n",
              "      <th>city</th>\n",
              "      <th>country</th>\n",
              "      <th>neutral</th>\n",
              "      <th>year</th>\n",
              "      <th>month</th>\n",
              "      <th>rank</th>\n",
              "      <th>country_full</th>\n",
              "      <th>country_abrv</th>\n",
              "      <th>total_points</th>\n",
              "      <th>previous_points</th>\n",
              "      <th>rank_change</th>\n",
              "      <th>cur_year_avg</th>\n",
              "      <th>cur_year_avg_weighted</th>\n",
              "      <th>last_year_avg</th>\n",
              "      <th>last_year_avg_weighted</th>\n",
              "      <th>two_year_ago_avg</th>\n",
              "      <th>two_year_ago_weighted</th>\n",
              "      <th>three_year_ago_avg</th>\n",
              "      <th>three_year_ago_weighted</th>\n",
              "      <th>confederation</th>\n",
              "      <th>date_y</th>\n",
              "    </tr>\n",
              "  </thead>\n",
              "  <tbody>\n",
              "    <tr>\n",
              "      <th>18192</th>\n",
              "      <td>1994-01-02</td>\n",
              "      <td>Barbados</td>\n",
              "      <td>Grenada</td>\n",
              "      <td>0</td>\n",
              "      <td>0</td>\n",
              "      <td>Friendly</td>\n",
              "      <td>Bridgetown</td>\n",
              "      <td>Barbados</td>\n",
              "      <td>False</td>\n",
              "      <td>1994</td>\n",
              "      <td>4</td>\n",
              "      <td>99.0</td>\n",
              "      <td>Barbados</td>\n",
              "      <td>BRB</td>\n",
              "      <td>0.0</td>\n",
              "      <td>13.0</td>\n",
              "      <td>2.0</td>\n",
              "      <td>0.0</td>\n",
              "      <td>0.0</td>\n",
              "      <td>0.0</td>\n",
              "      <td>0.0</td>\n",
              "      <td>0.0</td>\n",
              "      <td>0.0</td>\n",
              "      <td>0.0</td>\n",
              "      <td>0.0</td>\n",
              "      <td>CONCACAF</td>\n",
              "      <td>1994-04-19</td>\n",
              "    </tr>\n",
              "    <tr>\n",
              "      <th>18291</th>\n",
              "      <td>1994-01-02</td>\n",
              "      <td>Ghana</td>\n",
              "      <td>Egypt</td>\n",
              "      <td>2</td>\n",
              "      <td>1</td>\n",
              "      <td>Friendly</td>\n",
              "      <td>Accra</td>\n",
              "      <td>Ghana</td>\n",
              "      <td>False</td>\n",
              "      <td>1994</td>\n",
              "      <td>4</td>\n",
              "      <td>29.0</td>\n",
              "      <td>Ghana</td>\n",
              "      <td>GHA</td>\n",
              "      <td>0.0</td>\n",
              "      <td>41.0</td>\n",
              "      <td>2.0</td>\n",
              "      <td>0.0</td>\n",
              "      <td>0.0</td>\n",
              "      <td>0.0</td>\n",
              "      <td>0.0</td>\n",
              "      <td>0.0</td>\n",
              "      <td>0.0</td>\n",
              "      <td>0.0</td>\n",
              "      <td>0.0</td>\n",
              "      <td>CAF</td>\n",
              "      <td>1994-04-19</td>\n",
              "    </tr>\n",
              "    <tr>\n",
              "      <th>18479</th>\n",
              "      <td>1994-01-05</td>\n",
              "      <td>Mali</td>\n",
              "      <td>Burkina Faso</td>\n",
              "      <td>1</td>\n",
              "      <td>1</td>\n",
              "      <td>Friendly</td>\n",
              "      <td>Bamako</td>\n",
              "      <td>Mali</td>\n",
              "      <td>False</td>\n",
              "      <td>1994</td>\n",
              "      <td>4</td>\n",
              "      <td>48.0</td>\n",
              "      <td>Mali</td>\n",
              "      <td>MLI</td>\n",
              "      <td>0.0</td>\n",
              "      <td>31.0</td>\n",
              "      <td>9.0</td>\n",
              "      <td>0.0</td>\n",
              "      <td>0.0</td>\n",
              "      <td>0.0</td>\n",
              "      <td>0.0</td>\n",
              "      <td>0.0</td>\n",
              "      <td>0.0</td>\n",
              "      <td>0.0</td>\n",
              "      <td>0.0</td>\n",
              "      <td>CAF</td>\n",
              "      <td>1994-04-19</td>\n",
              "    </tr>\n",
              "    <tr>\n",
              "      <th>18747</th>\n",
              "      <td>1994-01-09</td>\n",
              "      <td>Mauritania</td>\n",
              "      <td>Mali</td>\n",
              "      <td>1</td>\n",
              "      <td>3</td>\n",
              "      <td>Friendly</td>\n",
              "      <td>Nouakchott</td>\n",
              "      <td>Mauritania</td>\n",
              "      <td>False</td>\n",
              "      <td>1994</td>\n",
              "      <td>4</td>\n",
              "      <td>147.0</td>\n",
              "      <td>Mauritania</td>\n",
              "      <td>MTN</td>\n",
              "      <td>0.0</td>\n",
              "      <td>3.0</td>\n",
              "      <td>-1.0</td>\n",
              "      <td>0.0</td>\n",
              "      <td>0.0</td>\n",
              "      <td>0.0</td>\n",
              "      <td>0.0</td>\n",
              "      <td>0.0</td>\n",
              "      <td>0.0</td>\n",
              "      <td>0.0</td>\n",
              "      <td>0.0</td>\n",
              "      <td>CAF</td>\n",
              "      <td>1994-04-19</td>\n",
              "    </tr>\n",
              "    <tr>\n",
              "      <th>18838</th>\n",
              "      <td>1994-01-11</td>\n",
              "      <td>Thailand</td>\n",
              "      <td>Nigeria</td>\n",
              "      <td>1</td>\n",
              "      <td>1</td>\n",
              "      <td>Friendly</td>\n",
              "      <td>Bangkok</td>\n",
              "      <td>Thailand</td>\n",
              "      <td>False</td>\n",
              "      <td>1994</td>\n",
              "      <td>4</td>\n",
              "      <td>69.0</td>\n",
              "      <td>Thailand</td>\n",
              "      <td>THA</td>\n",
              "      <td>0.0</td>\n",
              "      <td>25.0</td>\n",
              "      <td>1.0</td>\n",
              "      <td>0.0</td>\n",
              "      <td>0.0</td>\n",
              "      <td>0.0</td>\n",
              "      <td>0.0</td>\n",
              "      <td>0.0</td>\n",
              "      <td>0.0</td>\n",
              "      <td>0.0</td>\n",
              "      <td>0.0</td>\n",
              "      <td>AFC</td>\n",
              "      <td>1994-04-19</td>\n",
              "    </tr>\n",
              "  </tbody>\n",
              "</table>\n",
              "</div>"
            ],
            "text/plain": [
              "          date_x   home_team  ... confederation     date_y\n",
              "18192 1994-01-02    Barbados  ...      CONCACAF 1994-04-19\n",
              "18291 1994-01-02       Ghana  ...           CAF 1994-04-19\n",
              "18479 1994-01-05        Mali  ...           CAF 1994-04-19\n",
              "18747 1994-01-09  Mauritania  ...           CAF 1994-04-19\n",
              "18838 1994-01-11    Thailand  ...           AFC 1994-04-19\n",
              "\n",
              "[5 rows x 27 columns]"
            ]
          },
          "metadata": {
            "tags": []
          },
          "execution_count": 35
        }
      ]
    },
    {
      "cell_type": "code",
      "metadata": {
        "id": "RNEA8qEaw0GP",
        "colab_type": "code",
        "colab": {
          "base_uri": "https://localhost:8080/",
          "height": 119
        },
        "outputId": "d8aff716-317d-4bf0-b45d-05110e476431"
      },
      "source": [
        "# Getting the columns to be renamed\n",
        "#\n",
        "home_df.columns[11:-2]"
      ],
      "execution_count": 36,
      "outputs": [
        {
          "output_type": "execute_result",
          "data": {
            "text/plain": [
              "Index(['rank', 'country_full', 'country_abrv', 'total_points',\n",
              "       'previous_points', 'rank_change', 'cur_year_avg',\n",
              "       'cur_year_avg_weighted', 'last_year_avg', 'last_year_avg_weighted',\n",
              "       'two_year_ago_avg', 'two_year_ago_weighted', 'three_year_ago_avg',\n",
              "       'three_year_ago_weighted'],\n",
              "      dtype='object')"
            ]
          },
          "metadata": {
            "tags": []
          },
          "execution_count": 36
        }
      ]
    },
    {
      "cell_type": "code",
      "metadata": {
        "id": "pdV3sCo6wkqW",
        "colab_type": "code",
        "colab": {
          "base_uri": "https://localhost:8080/",
          "height": 136
        },
        "outputId": "ec16c880-5506-4e9f-a263-8c249c42f45f"
      },
      "source": [
        "# Renaming the selected home_df columns using a for loop\n",
        "# \n",
        "for x, y in zip(home_df.columns[11:-2], home_df.columns[11:-2]):\n",
        "  home_df.rename(columns = {x: y + '_home'}, inplace = True)\n",
        "  \n",
        "# Previewing the renamed columns\n",
        "home_df.columns[11:-2]"
      ],
      "execution_count": 37,
      "outputs": [
        {
          "output_type": "execute_result",
          "data": {
            "text/plain": [
              "Index(['rank_home', 'country_full_home', 'country_abrv_home',\n",
              "       'total_points_home', 'previous_points_home', 'rank_change_home',\n",
              "       'cur_year_avg_home', 'cur_year_avg_weighted_home', 'last_year_avg_home',\n",
              "       'last_year_avg_weighted_home', 'two_year_ago_avg_home',\n",
              "       'two_year_ago_weighted_home', 'three_year_ago_avg_home',\n",
              "       'three_year_ago_weighted_home'],\n",
              "      dtype='object')"
            ]
          },
          "metadata": {
            "tags": []
          },
          "execution_count": 37
        }
      ]
    },
    {
      "cell_type": "code",
      "metadata": {
        "id": "rwf6wif2Ps24",
        "colab_type": "code",
        "colab": {
          "base_uri": "https://localhost:8080/",
          "height": 309
        },
        "outputId": "346dc088-8c7e-4a1e-b780-7a5912c647ab"
      },
      "source": [
        "# Selecting the ranking details of the away team only\n",
        "#\n",
        "away_df = combined_df[combined_df.away_team == combined_df.country_full]\n",
        "#previewing the first five rows of the away_combined dataframe\n",
        "#\n",
        "away_df.head()"
      ],
      "execution_count": 38,
      "outputs": [
        {
          "output_type": "execute_result",
          "data": {
            "text/html": [
              "<div>\n",
              "<style scoped>\n",
              "    .dataframe tbody tr th:only-of-type {\n",
              "        vertical-align: middle;\n",
              "    }\n",
              "\n",
              "    .dataframe tbody tr th {\n",
              "        vertical-align: top;\n",
              "    }\n",
              "\n",
              "    .dataframe thead th {\n",
              "        text-align: right;\n",
              "    }\n",
              "</style>\n",
              "<table border=\"1\" class=\"dataframe\">\n",
              "  <thead>\n",
              "    <tr style=\"text-align: right;\">\n",
              "      <th></th>\n",
              "      <th>date_x</th>\n",
              "      <th>home_team</th>\n",
              "      <th>away_team</th>\n",
              "      <th>home_score</th>\n",
              "      <th>away_score</th>\n",
              "      <th>tournament</th>\n",
              "      <th>city</th>\n",
              "      <th>country</th>\n",
              "      <th>neutral</th>\n",
              "      <th>year</th>\n",
              "      <th>month</th>\n",
              "      <th>rank</th>\n",
              "      <th>country_full</th>\n",
              "      <th>country_abrv</th>\n",
              "      <th>total_points</th>\n",
              "      <th>previous_points</th>\n",
              "      <th>rank_change</th>\n",
              "      <th>cur_year_avg</th>\n",
              "      <th>cur_year_avg_weighted</th>\n",
              "      <th>last_year_avg</th>\n",
              "      <th>last_year_avg_weighted</th>\n",
              "      <th>two_year_ago_avg</th>\n",
              "      <th>two_year_ago_weighted</th>\n",
              "      <th>three_year_ago_avg</th>\n",
              "      <th>three_year_ago_weighted</th>\n",
              "      <th>confederation</th>\n",
              "      <th>date_y</th>\n",
              "    </tr>\n",
              "  </thead>\n",
              "  <tbody>\n",
              "    <tr>\n",
              "      <th>18224</th>\n",
              "      <td>1994-01-02</td>\n",
              "      <td>Barbados</td>\n",
              "      <td>Grenada</td>\n",
              "      <td>0</td>\n",
              "      <td>0</td>\n",
              "      <td>Friendly</td>\n",
              "      <td>Bridgetown</td>\n",
              "      <td>Barbados</td>\n",
              "      <td>False</td>\n",
              "      <td>1994</td>\n",
              "      <td>4</td>\n",
              "      <td>131.0</td>\n",
              "      <td>Grenada</td>\n",
              "      <td>GRN</td>\n",
              "      <td>0.0</td>\n",
              "      <td>7.0</td>\n",
              "      <td>1.0</td>\n",
              "      <td>0.0</td>\n",
              "      <td>0.0</td>\n",
              "      <td>0.0</td>\n",
              "      <td>0.0</td>\n",
              "      <td>0.0</td>\n",
              "      <td>0.0</td>\n",
              "      <td>0.0</td>\n",
              "      <td>0.0</td>\n",
              "      <td>CONCACAF</td>\n",
              "      <td>1994-04-19</td>\n",
              "    </tr>\n",
              "    <tr>\n",
              "      <th>18286</th>\n",
              "      <td>1994-01-02</td>\n",
              "      <td>Ghana</td>\n",
              "      <td>Egypt</td>\n",
              "      <td>2</td>\n",
              "      <td>1</td>\n",
              "      <td>Friendly</td>\n",
              "      <td>Accra</td>\n",
              "      <td>Ghana</td>\n",
              "      <td>False</td>\n",
              "      <td>1994</td>\n",
              "      <td>4</td>\n",
              "      <td>24.0</td>\n",
              "      <td>Egypt</td>\n",
              "      <td>EGY</td>\n",
              "      <td>0.0</td>\n",
              "      <td>44.0</td>\n",
              "      <td>1.0</td>\n",
              "      <td>0.0</td>\n",
              "      <td>0.0</td>\n",
              "      <td>0.0</td>\n",
              "      <td>0.0</td>\n",
              "      <td>0.0</td>\n",
              "      <td>0.0</td>\n",
              "      <td>0.0</td>\n",
              "      <td>0.0</td>\n",
              "      <td>CAF</td>\n",
              "      <td>1994-04-19</td>\n",
              "    </tr>\n",
              "    <tr>\n",
              "      <th>18532</th>\n",
              "      <td>1994-01-05</td>\n",
              "      <td>Mali</td>\n",
              "      <td>Burkina Faso</td>\n",
              "      <td>1</td>\n",
              "      <td>1</td>\n",
              "      <td>Friendly</td>\n",
              "      <td>Bamako</td>\n",
              "      <td>Mali</td>\n",
              "      <td>False</td>\n",
              "      <td>1994</td>\n",
              "      <td>4</td>\n",
              "      <td>101.0</td>\n",
              "      <td>Burkina Faso</td>\n",
              "      <td>BFA</td>\n",
              "      <td>0.0</td>\n",
              "      <td>12.0</td>\n",
              "      <td>3.0</td>\n",
              "      <td>0.0</td>\n",
              "      <td>0.0</td>\n",
              "      <td>0.0</td>\n",
              "      <td>0.0</td>\n",
              "      <td>0.0</td>\n",
              "      <td>0.0</td>\n",
              "      <td>0.0</td>\n",
              "      <td>0.0</td>\n",
              "      <td>CAF</td>\n",
              "      <td>1994-04-19</td>\n",
              "    </tr>\n",
              "    <tr>\n",
              "      <th>18648</th>\n",
              "      <td>1994-01-09</td>\n",
              "      <td>Mauritania</td>\n",
              "      <td>Mali</td>\n",
              "      <td>1</td>\n",
              "      <td>3</td>\n",
              "      <td>Friendly</td>\n",
              "      <td>Nouakchott</td>\n",
              "      <td>Mauritania</td>\n",
              "      <td>False</td>\n",
              "      <td>1994</td>\n",
              "      <td>4</td>\n",
              "      <td>48.0</td>\n",
              "      <td>Mali</td>\n",
              "      <td>MLI</td>\n",
              "      <td>0.0</td>\n",
              "      <td>31.0</td>\n",
              "      <td>9.0</td>\n",
              "      <td>0.0</td>\n",
              "      <td>0.0</td>\n",
              "      <td>0.0</td>\n",
              "      <td>0.0</td>\n",
              "      <td>0.0</td>\n",
              "      <td>0.0</td>\n",
              "      <td>0.0</td>\n",
              "      <td>0.0</td>\n",
              "      <td>CAF</td>\n",
              "      <td>1994-04-19</td>\n",
              "    </tr>\n",
              "    <tr>\n",
              "      <th>18774</th>\n",
              "      <td>1994-01-11</td>\n",
              "      <td>Thailand</td>\n",
              "      <td>Nigeria</td>\n",
              "      <td>1</td>\n",
              "      <td>1</td>\n",
              "      <td>Friendly</td>\n",
              "      <td>Bangkok</td>\n",
              "      <td>Thailand</td>\n",
              "      <td>False</td>\n",
              "      <td>1994</td>\n",
              "      <td>4</td>\n",
              "      <td>5.0</td>\n",
              "      <td>Nigeria</td>\n",
              "      <td>NGA</td>\n",
              "      <td>0.0</td>\n",
              "      <td>49.0</td>\n",
              "      <td>13.0</td>\n",
              "      <td>0.0</td>\n",
              "      <td>0.0</td>\n",
              "      <td>0.0</td>\n",
              "      <td>0.0</td>\n",
              "      <td>0.0</td>\n",
              "      <td>0.0</td>\n",
              "      <td>0.0</td>\n",
              "      <td>0.0</td>\n",
              "      <td>CAF</td>\n",
              "      <td>1994-04-19</td>\n",
              "    </tr>\n",
              "  </tbody>\n",
              "</table>\n",
              "</div>"
            ],
            "text/plain": [
              "          date_x   home_team  ... confederation     date_y\n",
              "18224 1994-01-02    Barbados  ...      CONCACAF 1994-04-19\n",
              "18286 1994-01-02       Ghana  ...           CAF 1994-04-19\n",
              "18532 1994-01-05        Mali  ...           CAF 1994-04-19\n",
              "18648 1994-01-09  Mauritania  ...           CAF 1994-04-19\n",
              "18774 1994-01-11    Thailand  ...           CAF 1994-04-19\n",
              "\n",
              "[5 rows x 27 columns]"
            ]
          },
          "metadata": {
            "tags": []
          },
          "execution_count": 38
        }
      ]
    },
    {
      "cell_type": "code",
      "metadata": {
        "id": "4_ITMTdQ0XCj",
        "colab_type": "code",
        "colab": {
          "base_uri": "https://localhost:8080/",
          "height": 119
        },
        "outputId": "65f030c4-24d5-4751-e964-4b2e954a0abd"
      },
      "source": [
        "# Getting the columns to be renamed in the away_combined dataframe\n",
        "#\n",
        "away_df.columns[11:-2]"
      ],
      "execution_count": 39,
      "outputs": [
        {
          "output_type": "execute_result",
          "data": {
            "text/plain": [
              "Index(['rank', 'country_full', 'country_abrv', 'total_points',\n",
              "       'previous_points', 'rank_change', 'cur_year_avg',\n",
              "       'cur_year_avg_weighted', 'last_year_avg', 'last_year_avg_weighted',\n",
              "       'two_year_ago_avg', 'two_year_ago_weighted', 'three_year_ago_avg',\n",
              "       'three_year_ago_weighted'],\n",
              "      dtype='object')"
            ]
          },
          "metadata": {
            "tags": []
          },
          "execution_count": 39
        }
      ]
    },
    {
      "cell_type": "code",
      "metadata": {
        "id": "7POSkHsC0XAS",
        "colab_type": "code",
        "colab": {
          "base_uri": "https://localhost:8080/",
          "height": 136
        },
        "outputId": "7ca23a28-d611-43c0-c695-4e1711f9ed01"
      },
      "source": [
        "# Renaming the selected away_combined columns using a for loop\n",
        "# \n",
        "for x, y in zip(away_df.columns[11:-2], away_df.columns[11:-2]):\n",
        "  away_df.rename(columns = {x: y + '_away'}, inplace = True)\n",
        "  \n",
        "# Previewing the renamed columns\n",
        "away_df.columns[11:-2]"
      ],
      "execution_count": 40,
      "outputs": [
        {
          "output_type": "execute_result",
          "data": {
            "text/plain": [
              "Index(['rank_away', 'country_full_away', 'country_abrv_away',\n",
              "       'total_points_away', 'previous_points_away', 'rank_change_away',\n",
              "       'cur_year_avg_away', 'cur_year_avg_weighted_away', 'last_year_avg_away',\n",
              "       'last_year_avg_weighted_away', 'two_year_ago_avg_away',\n",
              "       'two_year_ago_weighted_away', 'three_year_ago_avg_away',\n",
              "       'three_year_ago_weighted_away'],\n",
              "      dtype='object')"
            ]
          },
          "metadata": {
            "tags": []
          },
          "execution_count": 40
        }
      ]
    },
    {
      "cell_type": "code",
      "metadata": {
        "id": "0bqz7ak43zgA",
        "colab_type": "code",
        "colab": {
          "base_uri": "https://localhost:8080/",
          "height": 241
        },
        "outputId": "0d8db7c2-c129-4358-e015-6a5b37b93e07"
      },
      "source": [
        "# Selecting only the relevant columns in the away_combined dataframe\n",
        "# Creating a list of relevant columns\n",
        "#\n",
        "relevant_cols = list(away_df.columns[9:-2])\n",
        "relevant_cols.extend(['home_team', 'away_team'])\n",
        "\n",
        "away_df = away_df[relevant_cols]\n",
        "\n",
        "# Previewing the first two columns of the away_combined dataset\n",
        "#\n",
        "away_df.head()"
      ],
      "execution_count": 41,
      "outputs": [
        {
          "output_type": "execute_result",
          "data": {
            "text/html": [
              "<div>\n",
              "<style scoped>\n",
              "    .dataframe tbody tr th:only-of-type {\n",
              "        vertical-align: middle;\n",
              "    }\n",
              "\n",
              "    .dataframe tbody tr th {\n",
              "        vertical-align: top;\n",
              "    }\n",
              "\n",
              "    .dataframe thead th {\n",
              "        text-align: right;\n",
              "    }\n",
              "</style>\n",
              "<table border=\"1\" class=\"dataframe\">\n",
              "  <thead>\n",
              "    <tr style=\"text-align: right;\">\n",
              "      <th></th>\n",
              "      <th>year</th>\n",
              "      <th>month</th>\n",
              "      <th>rank_away</th>\n",
              "      <th>country_full_away</th>\n",
              "      <th>country_abrv_away</th>\n",
              "      <th>total_points_away</th>\n",
              "      <th>previous_points_away</th>\n",
              "      <th>rank_change_away</th>\n",
              "      <th>cur_year_avg_away</th>\n",
              "      <th>cur_year_avg_weighted_away</th>\n",
              "      <th>last_year_avg_away</th>\n",
              "      <th>last_year_avg_weighted_away</th>\n",
              "      <th>two_year_ago_avg_away</th>\n",
              "      <th>two_year_ago_weighted_away</th>\n",
              "      <th>three_year_ago_avg_away</th>\n",
              "      <th>three_year_ago_weighted_away</th>\n",
              "      <th>home_team</th>\n",
              "      <th>away_team</th>\n",
              "    </tr>\n",
              "  </thead>\n",
              "  <tbody>\n",
              "    <tr>\n",
              "      <th>18224</th>\n",
              "      <td>1994</td>\n",
              "      <td>4</td>\n",
              "      <td>131.0</td>\n",
              "      <td>Grenada</td>\n",
              "      <td>GRN</td>\n",
              "      <td>0.0</td>\n",
              "      <td>7.0</td>\n",
              "      <td>1.0</td>\n",
              "      <td>0.0</td>\n",
              "      <td>0.0</td>\n",
              "      <td>0.0</td>\n",
              "      <td>0.0</td>\n",
              "      <td>0.0</td>\n",
              "      <td>0.0</td>\n",
              "      <td>0.0</td>\n",
              "      <td>0.0</td>\n",
              "      <td>Barbados</td>\n",
              "      <td>Grenada</td>\n",
              "    </tr>\n",
              "    <tr>\n",
              "      <th>18286</th>\n",
              "      <td>1994</td>\n",
              "      <td>4</td>\n",
              "      <td>24.0</td>\n",
              "      <td>Egypt</td>\n",
              "      <td>EGY</td>\n",
              "      <td>0.0</td>\n",
              "      <td>44.0</td>\n",
              "      <td>1.0</td>\n",
              "      <td>0.0</td>\n",
              "      <td>0.0</td>\n",
              "      <td>0.0</td>\n",
              "      <td>0.0</td>\n",
              "      <td>0.0</td>\n",
              "      <td>0.0</td>\n",
              "      <td>0.0</td>\n",
              "      <td>0.0</td>\n",
              "      <td>Ghana</td>\n",
              "      <td>Egypt</td>\n",
              "    </tr>\n",
              "    <tr>\n",
              "      <th>18532</th>\n",
              "      <td>1994</td>\n",
              "      <td>4</td>\n",
              "      <td>101.0</td>\n",
              "      <td>Burkina Faso</td>\n",
              "      <td>BFA</td>\n",
              "      <td>0.0</td>\n",
              "      <td>12.0</td>\n",
              "      <td>3.0</td>\n",
              "      <td>0.0</td>\n",
              "      <td>0.0</td>\n",
              "      <td>0.0</td>\n",
              "      <td>0.0</td>\n",
              "      <td>0.0</td>\n",
              "      <td>0.0</td>\n",
              "      <td>0.0</td>\n",
              "      <td>0.0</td>\n",
              "      <td>Mali</td>\n",
              "      <td>Burkina Faso</td>\n",
              "    </tr>\n",
              "    <tr>\n",
              "      <th>18648</th>\n",
              "      <td>1994</td>\n",
              "      <td>4</td>\n",
              "      <td>48.0</td>\n",
              "      <td>Mali</td>\n",
              "      <td>MLI</td>\n",
              "      <td>0.0</td>\n",
              "      <td>31.0</td>\n",
              "      <td>9.0</td>\n",
              "      <td>0.0</td>\n",
              "      <td>0.0</td>\n",
              "      <td>0.0</td>\n",
              "      <td>0.0</td>\n",
              "      <td>0.0</td>\n",
              "      <td>0.0</td>\n",
              "      <td>0.0</td>\n",
              "      <td>0.0</td>\n",
              "      <td>Mauritania</td>\n",
              "      <td>Mali</td>\n",
              "    </tr>\n",
              "    <tr>\n",
              "      <th>18774</th>\n",
              "      <td>1994</td>\n",
              "      <td>4</td>\n",
              "      <td>5.0</td>\n",
              "      <td>Nigeria</td>\n",
              "      <td>NGA</td>\n",
              "      <td>0.0</td>\n",
              "      <td>49.0</td>\n",
              "      <td>13.0</td>\n",
              "      <td>0.0</td>\n",
              "      <td>0.0</td>\n",
              "      <td>0.0</td>\n",
              "      <td>0.0</td>\n",
              "      <td>0.0</td>\n",
              "      <td>0.0</td>\n",
              "      <td>0.0</td>\n",
              "      <td>0.0</td>\n",
              "      <td>Thailand</td>\n",
              "      <td>Nigeria</td>\n",
              "    </tr>\n",
              "  </tbody>\n",
              "</table>\n",
              "</div>"
            ],
            "text/plain": [
              "       year  month  ...   home_team     away_team\n",
              "18224  1994      4  ...    Barbados       Grenada\n",
              "18286  1994      4  ...       Ghana         Egypt\n",
              "18532  1994      4  ...        Mali  Burkina Faso\n",
              "18648  1994      4  ...  Mauritania          Mali\n",
              "18774  1994      4  ...    Thailand       Nigeria\n",
              "\n",
              "[5 rows x 18 columns]"
            ]
          },
          "metadata": {
            "tags": []
          },
          "execution_count": 41
        }
      ]
    },
    {
      "cell_type": "code",
      "metadata": {
        "id": "cmCF9tCl0W9t",
        "colab_type": "code",
        "colab": {
          "base_uri": "https://localhost:8080/",
          "height": 309
        },
        "outputId": "bbdc04c9-6503-4c55-b267-e14b6c649df7"
      },
      "source": [
        "# Merging the home_combined dataframe to the away_combined dataframe\n",
        "# The two dataframes have been merged on year, month, home_team and away_team columns\n",
        "#\n",
        "final_df = pd.merge(home_df, away_df, how = 'left' , left_on =['year', 'month', 'home_team', 'away_team'],\\\n",
        "                    right_on = ['year', 'month', 'home_team', 'away_team'])\n",
        "# Previewing the first five rows of the merged dataframe\n",
        "final_df.head()"
      ],
      "execution_count": 42,
      "outputs": [
        {
          "output_type": "execute_result",
          "data": {
            "text/html": [
              "<div>\n",
              "<style scoped>\n",
              "    .dataframe tbody tr th:only-of-type {\n",
              "        vertical-align: middle;\n",
              "    }\n",
              "\n",
              "    .dataframe tbody tr th {\n",
              "        vertical-align: top;\n",
              "    }\n",
              "\n",
              "    .dataframe thead th {\n",
              "        text-align: right;\n",
              "    }\n",
              "</style>\n",
              "<table border=\"1\" class=\"dataframe\">\n",
              "  <thead>\n",
              "    <tr style=\"text-align: right;\">\n",
              "      <th></th>\n",
              "      <th>date_x</th>\n",
              "      <th>home_team</th>\n",
              "      <th>away_team</th>\n",
              "      <th>home_score</th>\n",
              "      <th>away_score</th>\n",
              "      <th>tournament</th>\n",
              "      <th>city</th>\n",
              "      <th>country</th>\n",
              "      <th>neutral</th>\n",
              "      <th>year</th>\n",
              "      <th>month</th>\n",
              "      <th>rank_home</th>\n",
              "      <th>country_full_home</th>\n",
              "      <th>country_abrv_home</th>\n",
              "      <th>total_points_home</th>\n",
              "      <th>previous_points_home</th>\n",
              "      <th>rank_change_home</th>\n",
              "      <th>cur_year_avg_home</th>\n",
              "      <th>cur_year_avg_weighted_home</th>\n",
              "      <th>last_year_avg_home</th>\n",
              "      <th>last_year_avg_weighted_home</th>\n",
              "      <th>two_year_ago_avg_home</th>\n",
              "      <th>two_year_ago_weighted_home</th>\n",
              "      <th>three_year_ago_avg_home</th>\n",
              "      <th>three_year_ago_weighted_home</th>\n",
              "      <th>confederation</th>\n",
              "      <th>date_y</th>\n",
              "      <th>rank_away</th>\n",
              "      <th>country_full_away</th>\n",
              "      <th>country_abrv_away</th>\n",
              "      <th>total_points_away</th>\n",
              "      <th>previous_points_away</th>\n",
              "      <th>rank_change_away</th>\n",
              "      <th>cur_year_avg_away</th>\n",
              "      <th>cur_year_avg_weighted_away</th>\n",
              "      <th>last_year_avg_away</th>\n",
              "      <th>last_year_avg_weighted_away</th>\n",
              "      <th>two_year_ago_avg_away</th>\n",
              "      <th>two_year_ago_weighted_away</th>\n",
              "      <th>three_year_ago_avg_away</th>\n",
              "      <th>three_year_ago_weighted_away</th>\n",
              "    </tr>\n",
              "  </thead>\n",
              "  <tbody>\n",
              "    <tr>\n",
              "      <th>0</th>\n",
              "      <td>1994-01-02</td>\n",
              "      <td>Barbados</td>\n",
              "      <td>Grenada</td>\n",
              "      <td>0</td>\n",
              "      <td>0</td>\n",
              "      <td>Friendly</td>\n",
              "      <td>Bridgetown</td>\n",
              "      <td>Barbados</td>\n",
              "      <td>False</td>\n",
              "      <td>1994</td>\n",
              "      <td>4</td>\n",
              "      <td>99.0</td>\n",
              "      <td>Barbados</td>\n",
              "      <td>BRB</td>\n",
              "      <td>0.0</td>\n",
              "      <td>13.0</td>\n",
              "      <td>2.0</td>\n",
              "      <td>0.0</td>\n",
              "      <td>0.0</td>\n",
              "      <td>0.0</td>\n",
              "      <td>0.0</td>\n",
              "      <td>0.0</td>\n",
              "      <td>0.0</td>\n",
              "      <td>0.0</td>\n",
              "      <td>0.0</td>\n",
              "      <td>CONCACAF</td>\n",
              "      <td>1994-04-19</td>\n",
              "      <td>131.0</td>\n",
              "      <td>Grenada</td>\n",
              "      <td>GRN</td>\n",
              "      <td>0.0</td>\n",
              "      <td>7.0</td>\n",
              "      <td>1.0</td>\n",
              "      <td>0.0</td>\n",
              "      <td>0.0</td>\n",
              "      <td>0.0</td>\n",
              "      <td>0.0</td>\n",
              "      <td>0.0</td>\n",
              "      <td>0.0</td>\n",
              "      <td>0.0</td>\n",
              "      <td>0.0</td>\n",
              "    </tr>\n",
              "    <tr>\n",
              "      <th>1</th>\n",
              "      <td>1994-01-02</td>\n",
              "      <td>Barbados</td>\n",
              "      <td>Grenada</td>\n",
              "      <td>0</td>\n",
              "      <td>0</td>\n",
              "      <td>Friendly</td>\n",
              "      <td>Bridgetown</td>\n",
              "      <td>Barbados</td>\n",
              "      <td>False</td>\n",
              "      <td>1994</td>\n",
              "      <td>4</td>\n",
              "      <td>99.0</td>\n",
              "      <td>Barbados</td>\n",
              "      <td>BRB</td>\n",
              "      <td>0.0</td>\n",
              "      <td>13.0</td>\n",
              "      <td>2.0</td>\n",
              "      <td>0.0</td>\n",
              "      <td>0.0</td>\n",
              "      <td>0.0</td>\n",
              "      <td>0.0</td>\n",
              "      <td>0.0</td>\n",
              "      <td>0.0</td>\n",
              "      <td>0.0</td>\n",
              "      <td>0.0</td>\n",
              "      <td>CONCACAF</td>\n",
              "      <td>1994-04-19</td>\n",
              "      <td>131.0</td>\n",
              "      <td>Grenada</td>\n",
              "      <td>GRN</td>\n",
              "      <td>0.0</td>\n",
              "      <td>7.0</td>\n",
              "      <td>1.0</td>\n",
              "      <td>0.0</td>\n",
              "      <td>0.0</td>\n",
              "      <td>0.0</td>\n",
              "      <td>0.0</td>\n",
              "      <td>0.0</td>\n",
              "      <td>0.0</td>\n",
              "      <td>0.0</td>\n",
              "      <td>0.0</td>\n",
              "    </tr>\n",
              "    <tr>\n",
              "      <th>2</th>\n",
              "      <td>1994-01-02</td>\n",
              "      <td>Ghana</td>\n",
              "      <td>Egypt</td>\n",
              "      <td>2</td>\n",
              "      <td>1</td>\n",
              "      <td>Friendly</td>\n",
              "      <td>Accra</td>\n",
              "      <td>Ghana</td>\n",
              "      <td>False</td>\n",
              "      <td>1994</td>\n",
              "      <td>4</td>\n",
              "      <td>29.0</td>\n",
              "      <td>Ghana</td>\n",
              "      <td>GHA</td>\n",
              "      <td>0.0</td>\n",
              "      <td>41.0</td>\n",
              "      <td>2.0</td>\n",
              "      <td>0.0</td>\n",
              "      <td>0.0</td>\n",
              "      <td>0.0</td>\n",
              "      <td>0.0</td>\n",
              "      <td>0.0</td>\n",
              "      <td>0.0</td>\n",
              "      <td>0.0</td>\n",
              "      <td>0.0</td>\n",
              "      <td>CAF</td>\n",
              "      <td>1994-04-19</td>\n",
              "      <td>24.0</td>\n",
              "      <td>Egypt</td>\n",
              "      <td>EGY</td>\n",
              "      <td>0.0</td>\n",
              "      <td>44.0</td>\n",
              "      <td>1.0</td>\n",
              "      <td>0.0</td>\n",
              "      <td>0.0</td>\n",
              "      <td>0.0</td>\n",
              "      <td>0.0</td>\n",
              "      <td>0.0</td>\n",
              "      <td>0.0</td>\n",
              "      <td>0.0</td>\n",
              "      <td>0.0</td>\n",
              "    </tr>\n",
              "    <tr>\n",
              "      <th>3</th>\n",
              "      <td>1994-01-05</td>\n",
              "      <td>Mali</td>\n",
              "      <td>Burkina Faso</td>\n",
              "      <td>1</td>\n",
              "      <td>1</td>\n",
              "      <td>Friendly</td>\n",
              "      <td>Bamako</td>\n",
              "      <td>Mali</td>\n",
              "      <td>False</td>\n",
              "      <td>1994</td>\n",
              "      <td>4</td>\n",
              "      <td>48.0</td>\n",
              "      <td>Mali</td>\n",
              "      <td>MLI</td>\n",
              "      <td>0.0</td>\n",
              "      <td>31.0</td>\n",
              "      <td>9.0</td>\n",
              "      <td>0.0</td>\n",
              "      <td>0.0</td>\n",
              "      <td>0.0</td>\n",
              "      <td>0.0</td>\n",
              "      <td>0.0</td>\n",
              "      <td>0.0</td>\n",
              "      <td>0.0</td>\n",
              "      <td>0.0</td>\n",
              "      <td>CAF</td>\n",
              "      <td>1994-04-19</td>\n",
              "      <td>101.0</td>\n",
              "      <td>Burkina Faso</td>\n",
              "      <td>BFA</td>\n",
              "      <td>0.0</td>\n",
              "      <td>12.0</td>\n",
              "      <td>3.0</td>\n",
              "      <td>0.0</td>\n",
              "      <td>0.0</td>\n",
              "      <td>0.0</td>\n",
              "      <td>0.0</td>\n",
              "      <td>0.0</td>\n",
              "      <td>0.0</td>\n",
              "      <td>0.0</td>\n",
              "      <td>0.0</td>\n",
              "    </tr>\n",
              "    <tr>\n",
              "      <th>4</th>\n",
              "      <td>1994-01-09</td>\n",
              "      <td>Mauritania</td>\n",
              "      <td>Mali</td>\n",
              "      <td>1</td>\n",
              "      <td>3</td>\n",
              "      <td>Friendly</td>\n",
              "      <td>Nouakchott</td>\n",
              "      <td>Mauritania</td>\n",
              "      <td>False</td>\n",
              "      <td>1994</td>\n",
              "      <td>4</td>\n",
              "      <td>147.0</td>\n",
              "      <td>Mauritania</td>\n",
              "      <td>MTN</td>\n",
              "      <td>0.0</td>\n",
              "      <td>3.0</td>\n",
              "      <td>-1.0</td>\n",
              "      <td>0.0</td>\n",
              "      <td>0.0</td>\n",
              "      <td>0.0</td>\n",
              "      <td>0.0</td>\n",
              "      <td>0.0</td>\n",
              "      <td>0.0</td>\n",
              "      <td>0.0</td>\n",
              "      <td>0.0</td>\n",
              "      <td>CAF</td>\n",
              "      <td>1994-04-19</td>\n",
              "      <td>48.0</td>\n",
              "      <td>Mali</td>\n",
              "      <td>MLI</td>\n",
              "      <td>0.0</td>\n",
              "      <td>31.0</td>\n",
              "      <td>9.0</td>\n",
              "      <td>0.0</td>\n",
              "      <td>0.0</td>\n",
              "      <td>0.0</td>\n",
              "      <td>0.0</td>\n",
              "      <td>0.0</td>\n",
              "      <td>0.0</td>\n",
              "      <td>0.0</td>\n",
              "      <td>0.0</td>\n",
              "    </tr>\n",
              "  </tbody>\n",
              "</table>\n",
              "</div>"
            ],
            "text/plain": [
              "      date_x   home_team  ... three_year_ago_avg_away  three_year_ago_weighted_away\n",
              "0 1994-01-02    Barbados  ...                     0.0                           0.0\n",
              "1 1994-01-02    Barbados  ...                     0.0                           0.0\n",
              "2 1994-01-02       Ghana  ...                     0.0                           0.0\n",
              "3 1994-01-05        Mali  ...                     0.0                           0.0\n",
              "4 1994-01-09  Mauritania  ...                     0.0                           0.0\n",
              "\n",
              "[5 rows x 41 columns]"
            ]
          },
          "metadata": {
            "tags": []
          },
          "execution_count": 42
        }
      ]
    },
    {
      "cell_type": "code",
      "metadata": {
        "id": "5yDS1Zjv0W4X",
        "colab_type": "code",
        "colab": {}
      },
      "source": [
        "# Removing irrelevant columns from the final dataframe\n",
        "# Creating a list of columns to be dropped\n",
        "#\n",
        "drop_cols = ['country_full_home', 'country_abrv_home', 'date_y', 'country_full_away',\t'country_abrv_away']\n",
        "final_df.drop(drop_cols, axis = 1, inplace = True)"
      ],
      "execution_count": 0,
      "outputs": []
    },
    {
      "cell_type": "code",
      "metadata": {
        "id": "GFzSE57mFOGb",
        "colab_type": "code",
        "colab": {
          "base_uri": "https://localhost:8080/",
          "height": 609
        },
        "outputId": "eab837f3-b06d-447a-e355-a4e0684d29ec"
      },
      "source": [
        "# previewing the new dataframe\n",
        "final_df"
      ],
      "execution_count": 44,
      "outputs": [
        {
          "output_type": "execute_result",
          "data": {
            "text/html": [
              "<div>\n",
              "<style scoped>\n",
              "    .dataframe tbody tr th:only-of-type {\n",
              "        vertical-align: middle;\n",
              "    }\n",
              "\n",
              "    .dataframe tbody tr th {\n",
              "        vertical-align: top;\n",
              "    }\n",
              "\n",
              "    .dataframe thead th {\n",
              "        text-align: right;\n",
              "    }\n",
              "</style>\n",
              "<table border=\"1\" class=\"dataframe\">\n",
              "  <thead>\n",
              "    <tr style=\"text-align: right;\">\n",
              "      <th></th>\n",
              "      <th>date_x</th>\n",
              "      <th>home_team</th>\n",
              "      <th>away_team</th>\n",
              "      <th>home_score</th>\n",
              "      <th>away_score</th>\n",
              "      <th>tournament</th>\n",
              "      <th>city</th>\n",
              "      <th>country</th>\n",
              "      <th>neutral</th>\n",
              "      <th>year</th>\n",
              "      <th>month</th>\n",
              "      <th>rank_home</th>\n",
              "      <th>total_points_home</th>\n",
              "      <th>previous_points_home</th>\n",
              "      <th>rank_change_home</th>\n",
              "      <th>cur_year_avg_home</th>\n",
              "      <th>cur_year_avg_weighted_home</th>\n",
              "      <th>last_year_avg_home</th>\n",
              "      <th>last_year_avg_weighted_home</th>\n",
              "      <th>two_year_ago_avg_home</th>\n",
              "      <th>two_year_ago_weighted_home</th>\n",
              "      <th>three_year_ago_avg_home</th>\n",
              "      <th>three_year_ago_weighted_home</th>\n",
              "      <th>confederation</th>\n",
              "      <th>rank_away</th>\n",
              "      <th>total_points_away</th>\n",
              "      <th>previous_points_away</th>\n",
              "      <th>rank_change_away</th>\n",
              "      <th>cur_year_avg_away</th>\n",
              "      <th>cur_year_avg_weighted_away</th>\n",
              "      <th>last_year_avg_away</th>\n",
              "      <th>last_year_avg_weighted_away</th>\n",
              "      <th>two_year_ago_avg_away</th>\n",
              "      <th>two_year_ago_weighted_away</th>\n",
              "      <th>three_year_ago_avg_away</th>\n",
              "      <th>three_year_ago_weighted_away</th>\n",
              "    </tr>\n",
              "  </thead>\n",
              "  <tbody>\n",
              "    <tr>\n",
              "      <th>0</th>\n",
              "      <td>1994-01-02</td>\n",
              "      <td>Barbados</td>\n",
              "      <td>Grenada</td>\n",
              "      <td>0</td>\n",
              "      <td>0</td>\n",
              "      <td>Friendly</td>\n",
              "      <td>Bridgetown</td>\n",
              "      <td>Barbados</td>\n",
              "      <td>False</td>\n",
              "      <td>1994</td>\n",
              "      <td>4</td>\n",
              "      <td>99.0</td>\n",
              "      <td>0.00</td>\n",
              "      <td>13.0</td>\n",
              "      <td>2.0</td>\n",
              "      <td>0.00</td>\n",
              "      <td>0.00</td>\n",
              "      <td>0.00</td>\n",
              "      <td>0.00</td>\n",
              "      <td>0.00</td>\n",
              "      <td>0.00</td>\n",
              "      <td>0.00</td>\n",
              "      <td>0.00</td>\n",
              "      <td>CONCACAF</td>\n",
              "      <td>131.0</td>\n",
              "      <td>0.00</td>\n",
              "      <td>7.0</td>\n",
              "      <td>1.0</td>\n",
              "      <td>0.00</td>\n",
              "      <td>0.00</td>\n",
              "      <td>0.00</td>\n",
              "      <td>0.00</td>\n",
              "      <td>0.00</td>\n",
              "      <td>0.00</td>\n",
              "      <td>0.00</td>\n",
              "      <td>0.00</td>\n",
              "    </tr>\n",
              "    <tr>\n",
              "      <th>1</th>\n",
              "      <td>1994-01-02</td>\n",
              "      <td>Barbados</td>\n",
              "      <td>Grenada</td>\n",
              "      <td>0</td>\n",
              "      <td>0</td>\n",
              "      <td>Friendly</td>\n",
              "      <td>Bridgetown</td>\n",
              "      <td>Barbados</td>\n",
              "      <td>False</td>\n",
              "      <td>1994</td>\n",
              "      <td>4</td>\n",
              "      <td>99.0</td>\n",
              "      <td>0.00</td>\n",
              "      <td>13.0</td>\n",
              "      <td>2.0</td>\n",
              "      <td>0.00</td>\n",
              "      <td>0.00</td>\n",
              "      <td>0.00</td>\n",
              "      <td>0.00</td>\n",
              "      <td>0.00</td>\n",
              "      <td>0.00</td>\n",
              "      <td>0.00</td>\n",
              "      <td>0.00</td>\n",
              "      <td>CONCACAF</td>\n",
              "      <td>131.0</td>\n",
              "      <td>0.00</td>\n",
              "      <td>7.0</td>\n",
              "      <td>1.0</td>\n",
              "      <td>0.00</td>\n",
              "      <td>0.00</td>\n",
              "      <td>0.00</td>\n",
              "      <td>0.00</td>\n",
              "      <td>0.00</td>\n",
              "      <td>0.00</td>\n",
              "      <td>0.00</td>\n",
              "      <td>0.00</td>\n",
              "    </tr>\n",
              "    <tr>\n",
              "      <th>2</th>\n",
              "      <td>1994-01-02</td>\n",
              "      <td>Ghana</td>\n",
              "      <td>Egypt</td>\n",
              "      <td>2</td>\n",
              "      <td>1</td>\n",
              "      <td>Friendly</td>\n",
              "      <td>Accra</td>\n",
              "      <td>Ghana</td>\n",
              "      <td>False</td>\n",
              "      <td>1994</td>\n",
              "      <td>4</td>\n",
              "      <td>29.0</td>\n",
              "      <td>0.00</td>\n",
              "      <td>41.0</td>\n",
              "      <td>2.0</td>\n",
              "      <td>0.00</td>\n",
              "      <td>0.00</td>\n",
              "      <td>0.00</td>\n",
              "      <td>0.00</td>\n",
              "      <td>0.00</td>\n",
              "      <td>0.00</td>\n",
              "      <td>0.00</td>\n",
              "      <td>0.00</td>\n",
              "      <td>CAF</td>\n",
              "      <td>24.0</td>\n",
              "      <td>0.00</td>\n",
              "      <td>44.0</td>\n",
              "      <td>1.0</td>\n",
              "      <td>0.00</td>\n",
              "      <td>0.00</td>\n",
              "      <td>0.00</td>\n",
              "      <td>0.00</td>\n",
              "      <td>0.00</td>\n",
              "      <td>0.00</td>\n",
              "      <td>0.00</td>\n",
              "      <td>0.00</td>\n",
              "    </tr>\n",
              "    <tr>\n",
              "      <th>3</th>\n",
              "      <td>1994-01-05</td>\n",
              "      <td>Mali</td>\n",
              "      <td>Burkina Faso</td>\n",
              "      <td>1</td>\n",
              "      <td>1</td>\n",
              "      <td>Friendly</td>\n",
              "      <td>Bamako</td>\n",
              "      <td>Mali</td>\n",
              "      <td>False</td>\n",
              "      <td>1994</td>\n",
              "      <td>4</td>\n",
              "      <td>48.0</td>\n",
              "      <td>0.00</td>\n",
              "      <td>31.0</td>\n",
              "      <td>9.0</td>\n",
              "      <td>0.00</td>\n",
              "      <td>0.00</td>\n",
              "      <td>0.00</td>\n",
              "      <td>0.00</td>\n",
              "      <td>0.00</td>\n",
              "      <td>0.00</td>\n",
              "      <td>0.00</td>\n",
              "      <td>0.00</td>\n",
              "      <td>CAF</td>\n",
              "      <td>101.0</td>\n",
              "      <td>0.00</td>\n",
              "      <td>12.0</td>\n",
              "      <td>3.0</td>\n",
              "      <td>0.00</td>\n",
              "      <td>0.00</td>\n",
              "      <td>0.00</td>\n",
              "      <td>0.00</td>\n",
              "      <td>0.00</td>\n",
              "      <td>0.00</td>\n",
              "      <td>0.00</td>\n",
              "      <td>0.00</td>\n",
              "    </tr>\n",
              "    <tr>\n",
              "      <th>4</th>\n",
              "      <td>1994-01-09</td>\n",
              "      <td>Mauritania</td>\n",
              "      <td>Mali</td>\n",
              "      <td>1</td>\n",
              "      <td>3</td>\n",
              "      <td>Friendly</td>\n",
              "      <td>Nouakchott</td>\n",
              "      <td>Mauritania</td>\n",
              "      <td>False</td>\n",
              "      <td>1994</td>\n",
              "      <td>4</td>\n",
              "      <td>147.0</td>\n",
              "      <td>0.00</td>\n",
              "      <td>3.0</td>\n",
              "      <td>-1.0</td>\n",
              "      <td>0.00</td>\n",
              "      <td>0.00</td>\n",
              "      <td>0.00</td>\n",
              "      <td>0.00</td>\n",
              "      <td>0.00</td>\n",
              "      <td>0.00</td>\n",
              "      <td>0.00</td>\n",
              "      <td>0.00</td>\n",
              "      <td>CAF</td>\n",
              "      <td>48.0</td>\n",
              "      <td>0.00</td>\n",
              "      <td>31.0</td>\n",
              "      <td>9.0</td>\n",
              "      <td>0.00</td>\n",
              "      <td>0.00</td>\n",
              "      <td>0.00</td>\n",
              "      <td>0.00</td>\n",
              "      <td>0.00</td>\n",
              "      <td>0.00</td>\n",
              "      <td>0.00</td>\n",
              "      <td>0.00</td>\n",
              "    </tr>\n",
              "    <tr>\n",
              "      <th>...</th>\n",
              "      <td>...</td>\n",
              "      <td>...</td>\n",
              "      <td>...</td>\n",
              "      <td>...</td>\n",
              "      <td>...</td>\n",
              "      <td>...</td>\n",
              "      <td>...</td>\n",
              "      <td>...</td>\n",
              "      <td>...</td>\n",
              "      <td>...</td>\n",
              "      <td>...</td>\n",
              "      <td>...</td>\n",
              "      <td>...</td>\n",
              "      <td>...</td>\n",
              "      <td>...</td>\n",
              "      <td>...</td>\n",
              "      <td>...</td>\n",
              "      <td>...</td>\n",
              "      <td>...</td>\n",
              "      <td>...</td>\n",
              "      <td>...</td>\n",
              "      <td>...</td>\n",
              "      <td>...</td>\n",
              "      <td>...</td>\n",
              "      <td>...</td>\n",
              "      <td>...</td>\n",
              "      <td>...</td>\n",
              "      <td>...</td>\n",
              "      <td>...</td>\n",
              "      <td>...</td>\n",
              "      <td>...</td>\n",
              "      <td>...</td>\n",
              "      <td>...</td>\n",
              "      <td>...</td>\n",
              "      <td>...</td>\n",
              "      <td>...</td>\n",
              "    </tr>\n",
              "    <tr>\n",
              "      <th>20538</th>\n",
              "      <td>2018-10-16</td>\n",
              "      <td>Laos</td>\n",
              "      <td>Mongolia</td>\n",
              "      <td>1</td>\n",
              "      <td>4</td>\n",
              "      <td>Friendly</td>\n",
              "      <td>Vientiane</td>\n",
              "      <td>Laos</td>\n",
              "      <td>False</td>\n",
              "      <td>2018</td>\n",
              "      <td>6</td>\n",
              "      <td>178.0</td>\n",
              "      <td>81.58</td>\n",
              "      <td>80.0</td>\n",
              "      <td>1.0</td>\n",
              "      <td>21.25</td>\n",
              "      <td>21.25</td>\n",
              "      <td>65.52</td>\n",
              "      <td>32.76</td>\n",
              "      <td>63.57</td>\n",
              "      <td>19.07</td>\n",
              "      <td>42.50</td>\n",
              "      <td>8.50</td>\n",
              "      <td>AFC</td>\n",
              "      <td>186.0</td>\n",
              "      <td>51.00</td>\n",
              "      <td>51.0</td>\n",
              "      <td>2.0</td>\n",
              "      <td>8.50</td>\n",
              "      <td>8.50</td>\n",
              "      <td>34.00</td>\n",
              "      <td>17.00</td>\n",
              "      <td>0.00</td>\n",
              "      <td>0.00</td>\n",
              "      <td>127.50</td>\n",
              "      <td>25.50</td>\n",
              "    </tr>\n",
              "    <tr>\n",
              "      <th>20539</th>\n",
              "      <td>2018-10-16</td>\n",
              "      <td>Malaysia</td>\n",
              "      <td>Kyrgyzstan</td>\n",
              "      <td>0</td>\n",
              "      <td>1</td>\n",
              "      <td>Friendly</td>\n",
              "      <td>Malacca City</td>\n",
              "      <td>Malaysia</td>\n",
              "      <td>False</td>\n",
              "      <td>2018</td>\n",
              "      <td>6</td>\n",
              "      <td>171.0</td>\n",
              "      <td>93.04</td>\n",
              "      <td>104.0</td>\n",
              "      <td>0.0</td>\n",
              "      <td>28.48</td>\n",
              "      <td>28.48</td>\n",
              "      <td>44.80</td>\n",
              "      <td>22.40</td>\n",
              "      <td>109.29</td>\n",
              "      <td>32.79</td>\n",
              "      <td>46.93</td>\n",
              "      <td>9.39</td>\n",
              "      <td>AFC</td>\n",
              "      <td>NaN</td>\n",
              "      <td>NaN</td>\n",
              "      <td>NaN</td>\n",
              "      <td>NaN</td>\n",
              "      <td>NaN</td>\n",
              "      <td>NaN</td>\n",
              "      <td>NaN</td>\n",
              "      <td>NaN</td>\n",
              "      <td>NaN</td>\n",
              "      <td>NaN</td>\n",
              "      <td>NaN</td>\n",
              "      <td>NaN</td>\n",
              "    </tr>\n",
              "    <tr>\n",
              "      <th>20540</th>\n",
              "      <td>2018-10-16</td>\n",
              "      <td>Mexico</td>\n",
              "      <td>Chile</td>\n",
              "      <td>0</td>\n",
              "      <td>1</td>\n",
              "      <td>Friendly</td>\n",
              "      <td>Queretaro</td>\n",
              "      <td>Mexico</td>\n",
              "      <td>False</td>\n",
              "      <td>2018</td>\n",
              "      <td>6</td>\n",
              "      <td>15.0</td>\n",
              "      <td>989.44</td>\n",
              "      <td>1008.0</td>\n",
              "      <td>0.0</td>\n",
              "      <td>470.55</td>\n",
              "      <td>470.55</td>\n",
              "      <td>506.78</td>\n",
              "      <td>253.39</td>\n",
              "      <td>579.97</td>\n",
              "      <td>173.99</td>\n",
              "      <td>457.54</td>\n",
              "      <td>91.51</td>\n",
              "      <td>CONCACAF</td>\n",
              "      <td>9.0</td>\n",
              "      <td>1134.66</td>\n",
              "      <td>1146.0</td>\n",
              "      <td>0.0</td>\n",
              "      <td>403.99</td>\n",
              "      <td>403.99</td>\n",
              "      <td>831.33</td>\n",
              "      <td>415.67</td>\n",
              "      <td>724.98</td>\n",
              "      <td>217.49</td>\n",
              "      <td>487.56</td>\n",
              "      <td>97.51</td>\n",
              "    </tr>\n",
              "    <tr>\n",
              "      <th>20541</th>\n",
              "      <td>2018-10-16</td>\n",
              "      <td>Oman</td>\n",
              "      <td>Ecuador</td>\n",
              "      <td>0</td>\n",
              "      <td>0</td>\n",
              "      <td>Friendly</td>\n",
              "      <td>Doha</td>\n",
              "      <td>Qatar</td>\n",
              "      <td>True</td>\n",
              "      <td>2018</td>\n",
              "      <td>6</td>\n",
              "      <td>84.0</td>\n",
              "      <td>391.06</td>\n",
              "      <td>383.0</td>\n",
              "      <td>3.0</td>\n",
              "      <td>259.44</td>\n",
              "      <td>259.44</td>\n",
              "      <td>114.64</td>\n",
              "      <td>57.32</td>\n",
              "      <td>192.68</td>\n",
              "      <td>57.80</td>\n",
              "      <td>82.45</td>\n",
              "      <td>16.49</td>\n",
              "      <td>AFC</td>\n",
              "      <td>60.0</td>\n",
              "      <td>523.85</td>\n",
              "      <td>506.0</td>\n",
              "      <td>3.0</td>\n",
              "      <td>67.14</td>\n",
              "      <td>67.14</td>\n",
              "      <td>387.50</td>\n",
              "      <td>193.75</td>\n",
              "      <td>630.02</td>\n",
              "      <td>189.01</td>\n",
              "      <td>369.77</td>\n",
              "      <td>73.95</td>\n",
              "    </tr>\n",
              "    <tr>\n",
              "      <th>20542</th>\n",
              "      <td>2018-10-16</td>\n",
              "      <td>Sweden</td>\n",
              "      <td>Slovakia</td>\n",
              "      <td>1</td>\n",
              "      <td>1</td>\n",
              "      <td>Friendly</td>\n",
              "      <td>Stockholm</td>\n",
              "      <td>Sweden</td>\n",
              "      <td>False</td>\n",
              "      <td>2018</td>\n",
              "      <td>6</td>\n",
              "      <td>24.0</td>\n",
              "      <td>879.90</td>\n",
              "      <td>889.0</td>\n",
              "      <td>-1.0</td>\n",
              "      <td>478.44</td>\n",
              "      <td>478.44</td>\n",
              "      <td>431.99</td>\n",
              "      <td>215.99</td>\n",
              "      <td>370.10</td>\n",
              "      <td>111.03</td>\n",
              "      <td>372.19</td>\n",
              "      <td>74.44</td>\n",
              "      <td>UEFA</td>\n",
              "      <td>28.0</td>\n",
              "      <td>804.36</td>\n",
              "      <td>786.0</td>\n",
              "      <td>1.0</td>\n",
              "      <td>332.12</td>\n",
              "      <td>332.12</td>\n",
              "      <td>454.01</td>\n",
              "      <td>227.01</td>\n",
              "      <td>325.92</td>\n",
              "      <td>97.77</td>\n",
              "      <td>737.30</td>\n",
              "      <td>147.46</td>\n",
              "    </tr>\n",
              "  </tbody>\n",
              "</table>\n",
              "<p>20543 rows × 36 columns</p>\n",
              "</div>"
            ],
            "text/plain": [
              "          date_x  ... three_year_ago_weighted_away\n",
              "0     1994-01-02  ...                         0.00\n",
              "1     1994-01-02  ...                         0.00\n",
              "2     1994-01-02  ...                         0.00\n",
              "3     1994-01-05  ...                         0.00\n",
              "4     1994-01-09  ...                         0.00\n",
              "...          ...  ...                          ...\n",
              "20538 2018-10-16  ...                        25.50\n",
              "20539 2018-10-16  ...                          NaN\n",
              "20540 2018-10-16  ...                        97.51\n",
              "20541 2018-10-16  ...                        73.95\n",
              "20542 2018-10-16  ...                       147.46\n",
              "\n",
              "[20543 rows x 36 columns]"
            ]
          },
          "metadata": {
            "tags": []
          },
          "execution_count": 44
        }
      ]
    },
    {
      "cell_type": "code",
      "metadata": {
        "id": "VQengEFZ0W1a",
        "colab_type": "code",
        "colab": {
          "base_uri": "https://localhost:8080/",
          "height": 646
        },
        "outputId": "4b6f8746-f3f5-4b24-c0ef-b64e9712cec2"
      },
      "source": [
        "# Checking for missing values\n",
        "# This is because a left join was used and some countries in the result dataframe are not ranked.\n",
        "#\n",
        "final_df.isnull().sum()"
      ],
      "execution_count": 45,
      "outputs": [
        {
          "output_type": "execute_result",
          "data": {
            "text/plain": [
              "date_x                             0\n",
              "home_team                          0\n",
              "away_team                          0\n",
              "home_score                         0\n",
              "away_score                         0\n",
              "tournament                         0\n",
              "city                               0\n",
              "country                            0\n",
              "neutral                            0\n",
              "year                               0\n",
              "month                              0\n",
              "rank_home                          0\n",
              "total_points_home                  0\n",
              "previous_points_home               0\n",
              "rank_change_home                   0\n",
              "cur_year_avg_home                  0\n",
              "cur_year_avg_weighted_home         0\n",
              "last_year_avg_home                 0\n",
              "last_year_avg_weighted_home        0\n",
              "two_year_ago_avg_home              0\n",
              "two_year_ago_weighted_home         0\n",
              "three_year_ago_avg_home            0\n",
              "three_year_ago_weighted_home       0\n",
              "confederation                      0\n",
              "rank_away                       1811\n",
              "total_points_away               1811\n",
              "previous_points_away            1811\n",
              "rank_change_away                1811\n",
              "cur_year_avg_away               1811\n",
              "cur_year_avg_weighted_away      1811\n",
              "last_year_avg_away              1811\n",
              "last_year_avg_weighted_away     1811\n",
              "two_year_ago_avg_away           1811\n",
              "two_year_ago_weighted_away      1811\n",
              "three_year_ago_avg_away         1811\n",
              "three_year_ago_weighted_away    1811\n",
              "dtype: int64"
            ]
          },
          "metadata": {
            "tags": []
          },
          "execution_count": 45
        }
      ]
    },
    {
      "cell_type": "code",
      "metadata": {
        "id": "lzmS-BkM-oZL",
        "colab_type": "code",
        "colab": {}
      },
      "source": [
        "# Dropping missing values\n",
        "#\n",
        "final_df.dropna(inplace=True)"
      ],
      "execution_count": 0,
      "outputs": []
    },
    {
      "cell_type": "code",
      "metadata": {
        "id": "NdnfRwEi-oWc",
        "colab_type": "code",
        "colab": {}
      },
      "source": [
        "# Creating a copy of the final_df for later usage\n",
        "#\n",
        "df = final_df.copy()"
      ],
      "execution_count": 0,
      "outputs": []
    },
    {
      "cell_type": "code",
      "metadata": {
        "id": "86Uu2hdi-oRW",
        "colab_type": "code",
        "colab": {
          "base_uri": "https://localhost:8080/",
          "height": 309
        },
        "outputId": "17982912-7842-4232-d5c7-b59b7c4110c1"
      },
      "source": [
        "# Previewing the first five rows of the engineered dataframe\n",
        "#\n",
        "df.head()"
      ],
      "execution_count": 48,
      "outputs": [
        {
          "output_type": "execute_result",
          "data": {
            "text/html": [
              "<div>\n",
              "<style scoped>\n",
              "    .dataframe tbody tr th:only-of-type {\n",
              "        vertical-align: middle;\n",
              "    }\n",
              "\n",
              "    .dataframe tbody tr th {\n",
              "        vertical-align: top;\n",
              "    }\n",
              "\n",
              "    .dataframe thead th {\n",
              "        text-align: right;\n",
              "    }\n",
              "</style>\n",
              "<table border=\"1\" class=\"dataframe\">\n",
              "  <thead>\n",
              "    <tr style=\"text-align: right;\">\n",
              "      <th></th>\n",
              "      <th>date_x</th>\n",
              "      <th>home_team</th>\n",
              "      <th>away_team</th>\n",
              "      <th>home_score</th>\n",
              "      <th>away_score</th>\n",
              "      <th>tournament</th>\n",
              "      <th>city</th>\n",
              "      <th>country</th>\n",
              "      <th>neutral</th>\n",
              "      <th>year</th>\n",
              "      <th>month</th>\n",
              "      <th>rank_home</th>\n",
              "      <th>total_points_home</th>\n",
              "      <th>previous_points_home</th>\n",
              "      <th>rank_change_home</th>\n",
              "      <th>cur_year_avg_home</th>\n",
              "      <th>cur_year_avg_weighted_home</th>\n",
              "      <th>last_year_avg_home</th>\n",
              "      <th>last_year_avg_weighted_home</th>\n",
              "      <th>two_year_ago_avg_home</th>\n",
              "      <th>two_year_ago_weighted_home</th>\n",
              "      <th>three_year_ago_avg_home</th>\n",
              "      <th>three_year_ago_weighted_home</th>\n",
              "      <th>confederation</th>\n",
              "      <th>rank_away</th>\n",
              "      <th>total_points_away</th>\n",
              "      <th>previous_points_away</th>\n",
              "      <th>rank_change_away</th>\n",
              "      <th>cur_year_avg_away</th>\n",
              "      <th>cur_year_avg_weighted_away</th>\n",
              "      <th>last_year_avg_away</th>\n",
              "      <th>last_year_avg_weighted_away</th>\n",
              "      <th>two_year_ago_avg_away</th>\n",
              "      <th>two_year_ago_weighted_away</th>\n",
              "      <th>three_year_ago_avg_away</th>\n",
              "      <th>three_year_ago_weighted_away</th>\n",
              "    </tr>\n",
              "  </thead>\n",
              "  <tbody>\n",
              "    <tr>\n",
              "      <th>0</th>\n",
              "      <td>1994-01-02</td>\n",
              "      <td>Barbados</td>\n",
              "      <td>Grenada</td>\n",
              "      <td>0</td>\n",
              "      <td>0</td>\n",
              "      <td>Friendly</td>\n",
              "      <td>Bridgetown</td>\n",
              "      <td>Barbados</td>\n",
              "      <td>False</td>\n",
              "      <td>1994</td>\n",
              "      <td>4</td>\n",
              "      <td>99.0</td>\n",
              "      <td>0.0</td>\n",
              "      <td>13.0</td>\n",
              "      <td>2.0</td>\n",
              "      <td>0.0</td>\n",
              "      <td>0.0</td>\n",
              "      <td>0.0</td>\n",
              "      <td>0.0</td>\n",
              "      <td>0.0</td>\n",
              "      <td>0.0</td>\n",
              "      <td>0.0</td>\n",
              "      <td>0.0</td>\n",
              "      <td>CONCACAF</td>\n",
              "      <td>131.0</td>\n",
              "      <td>0.0</td>\n",
              "      <td>7.0</td>\n",
              "      <td>1.0</td>\n",
              "      <td>0.0</td>\n",
              "      <td>0.0</td>\n",
              "      <td>0.0</td>\n",
              "      <td>0.0</td>\n",
              "      <td>0.0</td>\n",
              "      <td>0.0</td>\n",
              "      <td>0.0</td>\n",
              "      <td>0.0</td>\n",
              "    </tr>\n",
              "    <tr>\n",
              "      <th>1</th>\n",
              "      <td>1994-01-02</td>\n",
              "      <td>Barbados</td>\n",
              "      <td>Grenada</td>\n",
              "      <td>0</td>\n",
              "      <td>0</td>\n",
              "      <td>Friendly</td>\n",
              "      <td>Bridgetown</td>\n",
              "      <td>Barbados</td>\n",
              "      <td>False</td>\n",
              "      <td>1994</td>\n",
              "      <td>4</td>\n",
              "      <td>99.0</td>\n",
              "      <td>0.0</td>\n",
              "      <td>13.0</td>\n",
              "      <td>2.0</td>\n",
              "      <td>0.0</td>\n",
              "      <td>0.0</td>\n",
              "      <td>0.0</td>\n",
              "      <td>0.0</td>\n",
              "      <td>0.0</td>\n",
              "      <td>0.0</td>\n",
              "      <td>0.0</td>\n",
              "      <td>0.0</td>\n",
              "      <td>CONCACAF</td>\n",
              "      <td>131.0</td>\n",
              "      <td>0.0</td>\n",
              "      <td>7.0</td>\n",
              "      <td>1.0</td>\n",
              "      <td>0.0</td>\n",
              "      <td>0.0</td>\n",
              "      <td>0.0</td>\n",
              "      <td>0.0</td>\n",
              "      <td>0.0</td>\n",
              "      <td>0.0</td>\n",
              "      <td>0.0</td>\n",
              "      <td>0.0</td>\n",
              "    </tr>\n",
              "    <tr>\n",
              "      <th>2</th>\n",
              "      <td>1994-01-02</td>\n",
              "      <td>Ghana</td>\n",
              "      <td>Egypt</td>\n",
              "      <td>2</td>\n",
              "      <td>1</td>\n",
              "      <td>Friendly</td>\n",
              "      <td>Accra</td>\n",
              "      <td>Ghana</td>\n",
              "      <td>False</td>\n",
              "      <td>1994</td>\n",
              "      <td>4</td>\n",
              "      <td>29.0</td>\n",
              "      <td>0.0</td>\n",
              "      <td>41.0</td>\n",
              "      <td>2.0</td>\n",
              "      <td>0.0</td>\n",
              "      <td>0.0</td>\n",
              "      <td>0.0</td>\n",
              "      <td>0.0</td>\n",
              "      <td>0.0</td>\n",
              "      <td>0.0</td>\n",
              "      <td>0.0</td>\n",
              "      <td>0.0</td>\n",
              "      <td>CAF</td>\n",
              "      <td>24.0</td>\n",
              "      <td>0.0</td>\n",
              "      <td>44.0</td>\n",
              "      <td>1.0</td>\n",
              "      <td>0.0</td>\n",
              "      <td>0.0</td>\n",
              "      <td>0.0</td>\n",
              "      <td>0.0</td>\n",
              "      <td>0.0</td>\n",
              "      <td>0.0</td>\n",
              "      <td>0.0</td>\n",
              "      <td>0.0</td>\n",
              "    </tr>\n",
              "    <tr>\n",
              "      <th>3</th>\n",
              "      <td>1994-01-05</td>\n",
              "      <td>Mali</td>\n",
              "      <td>Burkina Faso</td>\n",
              "      <td>1</td>\n",
              "      <td>1</td>\n",
              "      <td>Friendly</td>\n",
              "      <td>Bamako</td>\n",
              "      <td>Mali</td>\n",
              "      <td>False</td>\n",
              "      <td>1994</td>\n",
              "      <td>4</td>\n",
              "      <td>48.0</td>\n",
              "      <td>0.0</td>\n",
              "      <td>31.0</td>\n",
              "      <td>9.0</td>\n",
              "      <td>0.0</td>\n",
              "      <td>0.0</td>\n",
              "      <td>0.0</td>\n",
              "      <td>0.0</td>\n",
              "      <td>0.0</td>\n",
              "      <td>0.0</td>\n",
              "      <td>0.0</td>\n",
              "      <td>0.0</td>\n",
              "      <td>CAF</td>\n",
              "      <td>101.0</td>\n",
              "      <td>0.0</td>\n",
              "      <td>12.0</td>\n",
              "      <td>3.0</td>\n",
              "      <td>0.0</td>\n",
              "      <td>0.0</td>\n",
              "      <td>0.0</td>\n",
              "      <td>0.0</td>\n",
              "      <td>0.0</td>\n",
              "      <td>0.0</td>\n",
              "      <td>0.0</td>\n",
              "      <td>0.0</td>\n",
              "    </tr>\n",
              "    <tr>\n",
              "      <th>4</th>\n",
              "      <td>1994-01-09</td>\n",
              "      <td>Mauritania</td>\n",
              "      <td>Mali</td>\n",
              "      <td>1</td>\n",
              "      <td>3</td>\n",
              "      <td>Friendly</td>\n",
              "      <td>Nouakchott</td>\n",
              "      <td>Mauritania</td>\n",
              "      <td>False</td>\n",
              "      <td>1994</td>\n",
              "      <td>4</td>\n",
              "      <td>147.0</td>\n",
              "      <td>0.0</td>\n",
              "      <td>3.0</td>\n",
              "      <td>-1.0</td>\n",
              "      <td>0.0</td>\n",
              "      <td>0.0</td>\n",
              "      <td>0.0</td>\n",
              "      <td>0.0</td>\n",
              "      <td>0.0</td>\n",
              "      <td>0.0</td>\n",
              "      <td>0.0</td>\n",
              "      <td>0.0</td>\n",
              "      <td>CAF</td>\n",
              "      <td>48.0</td>\n",
              "      <td>0.0</td>\n",
              "      <td>31.0</td>\n",
              "      <td>9.0</td>\n",
              "      <td>0.0</td>\n",
              "      <td>0.0</td>\n",
              "      <td>0.0</td>\n",
              "      <td>0.0</td>\n",
              "      <td>0.0</td>\n",
              "      <td>0.0</td>\n",
              "      <td>0.0</td>\n",
              "      <td>0.0</td>\n",
              "    </tr>\n",
              "  </tbody>\n",
              "</table>\n",
              "</div>"
            ],
            "text/plain": [
              "      date_x   home_team  ... three_year_ago_avg_away  three_year_ago_weighted_away\n",
              "0 1994-01-02    Barbados  ...                     0.0                           0.0\n",
              "1 1994-01-02    Barbados  ...                     0.0                           0.0\n",
              "2 1994-01-02       Ghana  ...                     0.0                           0.0\n",
              "3 1994-01-05        Mali  ...                     0.0                           0.0\n",
              "4 1994-01-09  Mauritania  ...                     0.0                           0.0\n",
              "\n",
              "[5 rows x 36 columns]"
            ]
          },
          "metadata": {
            "tags": []
          },
          "execution_count": 48
        }
      ]
    },
    {
      "cell_type": "code",
      "metadata": {
        "id": "6sEwvUczCMeQ",
        "colab_type": "code",
        "colab": {
          "base_uri": "https://localhost:8080/",
          "height": 646
        },
        "outputId": "638a6325-090a-4aef-ddf8-913adfaffd79"
      },
      "source": [
        "# Checking the datatypes of the df dataframe\n",
        "#\n",
        "df.dtypes"
      ],
      "execution_count": 49,
      "outputs": [
        {
          "output_type": "execute_result",
          "data": {
            "text/plain": [
              "date_x                          datetime64[ns]\n",
              "home_team                               object\n",
              "away_team                               object\n",
              "home_score                               int64\n",
              "away_score                               int64\n",
              "tournament                              object\n",
              "city                                    object\n",
              "country                                 object\n",
              "neutral                                   bool\n",
              "year                                     int64\n",
              "month                                    int64\n",
              "rank_home                              float64\n",
              "total_points_home                      float64\n",
              "previous_points_home                   float64\n",
              "rank_change_home                       float64\n",
              "cur_year_avg_home                      float64\n",
              "cur_year_avg_weighted_home             float64\n",
              "last_year_avg_home                     float64\n",
              "last_year_avg_weighted_home            float64\n",
              "two_year_ago_avg_home                  float64\n",
              "two_year_ago_weighted_home             float64\n",
              "three_year_ago_avg_home                float64\n",
              "three_year_ago_weighted_home           float64\n",
              "confederation                           object\n",
              "rank_away                              float64\n",
              "total_points_away                      float64\n",
              "previous_points_away                   float64\n",
              "rank_change_away                       float64\n",
              "cur_year_avg_away                      float64\n",
              "cur_year_avg_weighted_away             float64\n",
              "last_year_avg_away                     float64\n",
              "last_year_avg_weighted_away            float64\n",
              "two_year_ago_avg_away                  float64\n",
              "two_year_ago_weighted_away             float64\n",
              "three_year_ago_avg_away                float64\n",
              "three_year_ago_weighted_away           float64\n",
              "dtype: object"
            ]
          },
          "metadata": {
            "tags": []
          },
          "execution_count": 49
        }
      ]
    },
    {
      "cell_type": "code",
      "metadata": {
        "id": "m-Lkz2v_CckO",
        "colab_type": "code",
        "colab": {}
      },
      "source": [
        "\n",
        "# Changing the df dataframe datatypes to their appriopriate datatype\n",
        "# creating a list of categorical columns\n",
        "#\n",
        "cat_cols = ['home_team', 'away_team', 'tournament', 'city', 'country', 'neutral', 'year', 'month']\n",
        "\n",
        "# Using a for loop to change the datatypes to categorical\n",
        "#\n",
        "for col in cat_cols:\n",
        "  df[col] = df[col].astype('category')"
      ],
      "execution_count": 0,
      "outputs": []
    },
    {
      "cell_type": "code",
      "metadata": {
        "id": "xRHuKSpPB8uR",
        "colab_type": "code",
        "colab": {}
      },
      "source": [
        "# Creating a new column showing the final result\n",
        "# The column has been created by subtracting the away score from the home score\n",
        "# zero goals means a draw\n",
        "# Positive goals means the home team won\n",
        "# Negative goals means the away team won, which means that the home team lost.\n",
        "#\n",
        "df['score'] = df.home_score - df.away_score"
      ],
      "execution_count": 0,
      "outputs": []
    },
    {
      "cell_type": "code",
      "metadata": {
        "id": "BC195Ib0EjSo",
        "colab_type": "code",
        "colab": {
          "base_uri": "https://localhost:8080/",
          "height": 119
        },
        "outputId": "48a6bbc2-edf0-414e-dccd-f7422eb00f6c"
      },
      "source": [
        "# Previewing the first five rows of the score column\n",
        "#\n",
        "df.score.head()"
      ],
      "execution_count": 52,
      "outputs": [
        {
          "output_type": "execute_result",
          "data": {
            "text/plain": [
              "0    0\n",
              "1    0\n",
              "2    1\n",
              "3    0\n",
              "4   -2\n",
              "Name: score, dtype: int64"
            ]
          },
          "metadata": {
            "tags": []
          },
          "execution_count": 52
        }
      ]
    },
    {
      "cell_type": "code",
      "metadata": {
        "id": "9530yoTD_QVN",
        "colab_type": "code",
        "colab": {
          "base_uri": "https://localhost:8080/",
          "height": 309
        },
        "outputId": "af7e9309-ec0e-47d8-f938-5f225ed2a910"
      },
      "source": [
        "# Creating a function to be used to create a win, draw or lose column\n",
        "#\n",
        "def result(goals):\n",
        "  if goals > 0:\n",
        "    return 'Win'\n",
        "  elif goals < 0:\n",
        "    return 'Lose'\n",
        "  else:\n",
        "    return 'Draw'\n",
        "# Applying the result function to the dataframe\n",
        "#\n",
        "df['result'] = df.score.apply(lambda x: result(x))\n",
        "\n",
        "# Dropping the score column, as it has served its purpose\n",
        "#\n",
        "df.drop('score', axis = 1, inplace = True)\n",
        "\n",
        "# Creating a column of total goals scored\n",
        "#\n",
        "df['total_goals'] = df.home_score + df.away_score\n",
        "\n",
        "# Previewing the last five rows of the dataframe together with the result column\n",
        "#\n",
        "df.tail()"
      ],
      "execution_count": 53,
      "outputs": [
        {
          "output_type": "execute_result",
          "data": {
            "text/html": [
              "<div>\n",
              "<style scoped>\n",
              "    .dataframe tbody tr th:only-of-type {\n",
              "        vertical-align: middle;\n",
              "    }\n",
              "\n",
              "    .dataframe tbody tr th {\n",
              "        vertical-align: top;\n",
              "    }\n",
              "\n",
              "    .dataframe thead th {\n",
              "        text-align: right;\n",
              "    }\n",
              "</style>\n",
              "<table border=\"1\" class=\"dataframe\">\n",
              "  <thead>\n",
              "    <tr style=\"text-align: right;\">\n",
              "      <th></th>\n",
              "      <th>date_x</th>\n",
              "      <th>home_team</th>\n",
              "      <th>away_team</th>\n",
              "      <th>home_score</th>\n",
              "      <th>away_score</th>\n",
              "      <th>tournament</th>\n",
              "      <th>city</th>\n",
              "      <th>country</th>\n",
              "      <th>neutral</th>\n",
              "      <th>year</th>\n",
              "      <th>month</th>\n",
              "      <th>rank_home</th>\n",
              "      <th>total_points_home</th>\n",
              "      <th>previous_points_home</th>\n",
              "      <th>rank_change_home</th>\n",
              "      <th>cur_year_avg_home</th>\n",
              "      <th>cur_year_avg_weighted_home</th>\n",
              "      <th>last_year_avg_home</th>\n",
              "      <th>last_year_avg_weighted_home</th>\n",
              "      <th>two_year_ago_avg_home</th>\n",
              "      <th>two_year_ago_weighted_home</th>\n",
              "      <th>three_year_ago_avg_home</th>\n",
              "      <th>three_year_ago_weighted_home</th>\n",
              "      <th>confederation</th>\n",
              "      <th>rank_away</th>\n",
              "      <th>total_points_away</th>\n",
              "      <th>previous_points_away</th>\n",
              "      <th>rank_change_away</th>\n",
              "      <th>cur_year_avg_away</th>\n",
              "      <th>cur_year_avg_weighted_away</th>\n",
              "      <th>last_year_avg_away</th>\n",
              "      <th>last_year_avg_weighted_away</th>\n",
              "      <th>two_year_ago_avg_away</th>\n",
              "      <th>two_year_ago_weighted_away</th>\n",
              "      <th>three_year_ago_avg_away</th>\n",
              "      <th>three_year_ago_weighted_away</th>\n",
              "      <th>result</th>\n",
              "      <th>total_goals</th>\n",
              "    </tr>\n",
              "  </thead>\n",
              "  <tbody>\n",
              "    <tr>\n",
              "      <th>20537</th>\n",
              "      <td>2018-10-16</td>\n",
              "      <td>Japan</td>\n",
              "      <td>Uruguay</td>\n",
              "      <td>4</td>\n",
              "      <td>3</td>\n",
              "      <td>Friendly</td>\n",
              "      <td>Saitama</td>\n",
              "      <td>Japan</td>\n",
              "      <td>False</td>\n",
              "      <td>2018</td>\n",
              "      <td>6</td>\n",
              "      <td>61.0</td>\n",
              "      <td>520.75</td>\n",
              "      <td>528.0</td>\n",
              "      <td>-1.0</td>\n",
              "      <td>164.51</td>\n",
              "      <td>164.51</td>\n",
              "      <td>413.01</td>\n",
              "      <td>206.50</td>\n",
              "      <td>273.24</td>\n",
              "      <td>81.97</td>\n",
              "      <td>338.88</td>\n",
              "      <td>67.78</td>\n",
              "      <td>AFC</td>\n",
              "      <td>14.0</td>\n",
              "      <td>1018.41</td>\n",
              "      <td>976.0</td>\n",
              "      <td>3.0</td>\n",
              "      <td>486.28</td>\n",
              "      <td>486.28</td>\n",
              "      <td>487.69</td>\n",
              "      <td>243.84</td>\n",
              "      <td>561.47</td>\n",
              "      <td>168.44</td>\n",
              "      <td>599.26</td>\n",
              "      <td>119.85</td>\n",
              "      <td>Win</td>\n",
              "      <td>7</td>\n",
              "    </tr>\n",
              "    <tr>\n",
              "      <th>20538</th>\n",
              "      <td>2018-10-16</td>\n",
              "      <td>Laos</td>\n",
              "      <td>Mongolia</td>\n",
              "      <td>1</td>\n",
              "      <td>4</td>\n",
              "      <td>Friendly</td>\n",
              "      <td>Vientiane</td>\n",
              "      <td>Laos</td>\n",
              "      <td>False</td>\n",
              "      <td>2018</td>\n",
              "      <td>6</td>\n",
              "      <td>178.0</td>\n",
              "      <td>81.58</td>\n",
              "      <td>80.0</td>\n",
              "      <td>1.0</td>\n",
              "      <td>21.25</td>\n",
              "      <td>21.25</td>\n",
              "      <td>65.52</td>\n",
              "      <td>32.76</td>\n",
              "      <td>63.57</td>\n",
              "      <td>19.07</td>\n",
              "      <td>42.50</td>\n",
              "      <td>8.50</td>\n",
              "      <td>AFC</td>\n",
              "      <td>186.0</td>\n",
              "      <td>51.00</td>\n",
              "      <td>51.0</td>\n",
              "      <td>2.0</td>\n",
              "      <td>8.50</td>\n",
              "      <td>8.50</td>\n",
              "      <td>34.00</td>\n",
              "      <td>17.00</td>\n",
              "      <td>0.00</td>\n",
              "      <td>0.00</td>\n",
              "      <td>127.50</td>\n",
              "      <td>25.50</td>\n",
              "      <td>Lose</td>\n",
              "      <td>5</td>\n",
              "    </tr>\n",
              "    <tr>\n",
              "      <th>20540</th>\n",
              "      <td>2018-10-16</td>\n",
              "      <td>Mexico</td>\n",
              "      <td>Chile</td>\n",
              "      <td>0</td>\n",
              "      <td>1</td>\n",
              "      <td>Friendly</td>\n",
              "      <td>Queretaro</td>\n",
              "      <td>Mexico</td>\n",
              "      <td>False</td>\n",
              "      <td>2018</td>\n",
              "      <td>6</td>\n",
              "      <td>15.0</td>\n",
              "      <td>989.44</td>\n",
              "      <td>1008.0</td>\n",
              "      <td>0.0</td>\n",
              "      <td>470.55</td>\n",
              "      <td>470.55</td>\n",
              "      <td>506.78</td>\n",
              "      <td>253.39</td>\n",
              "      <td>579.97</td>\n",
              "      <td>173.99</td>\n",
              "      <td>457.54</td>\n",
              "      <td>91.51</td>\n",
              "      <td>CONCACAF</td>\n",
              "      <td>9.0</td>\n",
              "      <td>1134.66</td>\n",
              "      <td>1146.0</td>\n",
              "      <td>0.0</td>\n",
              "      <td>403.99</td>\n",
              "      <td>403.99</td>\n",
              "      <td>831.33</td>\n",
              "      <td>415.67</td>\n",
              "      <td>724.98</td>\n",
              "      <td>217.49</td>\n",
              "      <td>487.56</td>\n",
              "      <td>97.51</td>\n",
              "      <td>Lose</td>\n",
              "      <td>1</td>\n",
              "    </tr>\n",
              "    <tr>\n",
              "      <th>20541</th>\n",
              "      <td>2018-10-16</td>\n",
              "      <td>Oman</td>\n",
              "      <td>Ecuador</td>\n",
              "      <td>0</td>\n",
              "      <td>0</td>\n",
              "      <td>Friendly</td>\n",
              "      <td>Doha</td>\n",
              "      <td>Qatar</td>\n",
              "      <td>True</td>\n",
              "      <td>2018</td>\n",
              "      <td>6</td>\n",
              "      <td>84.0</td>\n",
              "      <td>391.06</td>\n",
              "      <td>383.0</td>\n",
              "      <td>3.0</td>\n",
              "      <td>259.44</td>\n",
              "      <td>259.44</td>\n",
              "      <td>114.64</td>\n",
              "      <td>57.32</td>\n",
              "      <td>192.68</td>\n",
              "      <td>57.80</td>\n",
              "      <td>82.45</td>\n",
              "      <td>16.49</td>\n",
              "      <td>AFC</td>\n",
              "      <td>60.0</td>\n",
              "      <td>523.85</td>\n",
              "      <td>506.0</td>\n",
              "      <td>3.0</td>\n",
              "      <td>67.14</td>\n",
              "      <td>67.14</td>\n",
              "      <td>387.50</td>\n",
              "      <td>193.75</td>\n",
              "      <td>630.02</td>\n",
              "      <td>189.01</td>\n",
              "      <td>369.77</td>\n",
              "      <td>73.95</td>\n",
              "      <td>Draw</td>\n",
              "      <td>0</td>\n",
              "    </tr>\n",
              "    <tr>\n",
              "      <th>20542</th>\n",
              "      <td>2018-10-16</td>\n",
              "      <td>Sweden</td>\n",
              "      <td>Slovakia</td>\n",
              "      <td>1</td>\n",
              "      <td>1</td>\n",
              "      <td>Friendly</td>\n",
              "      <td>Stockholm</td>\n",
              "      <td>Sweden</td>\n",
              "      <td>False</td>\n",
              "      <td>2018</td>\n",
              "      <td>6</td>\n",
              "      <td>24.0</td>\n",
              "      <td>879.90</td>\n",
              "      <td>889.0</td>\n",
              "      <td>-1.0</td>\n",
              "      <td>478.44</td>\n",
              "      <td>478.44</td>\n",
              "      <td>431.99</td>\n",
              "      <td>215.99</td>\n",
              "      <td>370.10</td>\n",
              "      <td>111.03</td>\n",
              "      <td>372.19</td>\n",
              "      <td>74.44</td>\n",
              "      <td>UEFA</td>\n",
              "      <td>28.0</td>\n",
              "      <td>804.36</td>\n",
              "      <td>786.0</td>\n",
              "      <td>1.0</td>\n",
              "      <td>332.12</td>\n",
              "      <td>332.12</td>\n",
              "      <td>454.01</td>\n",
              "      <td>227.01</td>\n",
              "      <td>325.92</td>\n",
              "      <td>97.77</td>\n",
              "      <td>737.30</td>\n",
              "      <td>147.46</td>\n",
              "      <td>Draw</td>\n",
              "      <td>2</td>\n",
              "    </tr>\n",
              "  </tbody>\n",
              "</table>\n",
              "</div>"
            ],
            "text/plain": [
              "          date_x home_team  ... result  total_goals\n",
              "20537 2018-10-16     Japan  ...    Win            7\n",
              "20538 2018-10-16      Laos  ...   Lose            5\n",
              "20540 2018-10-16    Mexico  ...   Lose            1\n",
              "20541 2018-10-16      Oman  ...   Draw            0\n",
              "20542 2018-10-16    Sweden  ...   Draw            2\n",
              "\n",
              "[5 rows x 38 columns]"
            ]
          },
          "metadata": {
            "tags": []
          },
          "execution_count": 53
        }
      ]
    },
    {
      "cell_type": "markdown",
      "metadata": {
        "id": "ZXqaSSGTHyHo",
        "colab_type": "text"
      },
      "source": [
        "## Exploratory data analysis"
      ]
    },
    {
      "cell_type": "markdown",
      "metadata": {
        "id": "3ZLCbaQQlRiJ",
        "colab_type": "text"
      },
      "source": [
        "### Checking for outliers"
      ]
    },
    {
      "cell_type": "code",
      "metadata": {
        "id": "CDZzjq9llVOp",
        "colab_type": "code",
        "colab": {
          "base_uri": "https://localhost:8080/",
          "height": 637
        },
        "outputId": "bb2953d5-b91a-4ad1-fca9-4374d0d065c0"
      },
      "source": [
        "# Creating a list of columns to check for outliers\n",
        "# Creating a list of colors\n",
        "#\n",
        "col_list = ['home_score', 'away_score', 'rank_home', 'rank_away']\n",
        "colors = ['blueviolet', 'darkorange', 'springgreen', 'fuchsia']\n",
        "\n",
        "# Plotting boxplots of the col_list columns to check for outliers\n",
        "#\n",
        "fig, axes = plt.subplots(nrows = 2, ncols = 2, figsize = (15, 10))\n",
        "plt.suptitle('Checking for outliers using boxplots', fontsize = 15, y = 0.92, color = 'indigo')\n",
        "for ax, data, column, color in zip(axes.flatten(), df, col_list, colors):\n",
        "  sns.boxplot(df[column], ax = ax, color = color)\n",
        "  ax.set_facecolor('lavender') # Setting the background color to lavender"
      ],
      "execution_count": 54,
      "outputs": [
        {
          "output_type": "display_data",
          "data": {
            "image/png": "[encoded data removed]",
            "text/plain": [
              "<Figure size 1080x720 with 4 Axes>"
            ]
          },
          "metadata": {
            "tags": []
          }
        }
      ]
    },
    {
      "cell_type": "markdown",
      "metadata": {
        "id": "k4S4EbcAsphu",
        "colab_type": "text"
      },
      "source": [
        "*From the above boxplots, it can be seen that both the home score and away score columns have outliers. The outliers are important for modelling, so they will not be dropped*"
      ]
    },
    {
      "cell_type": "markdown",
      "metadata": {
        "id": "Mv_tI9zAH_b1",
        "colab_type": "text"
      },
      "source": [
        "#### Scatterplots"
      ]
    },
    {
      "cell_type": "code",
      "metadata": {
        "id": "VabvOaOPIDn8",
        "colab_type": "code",
        "colab": {
          "base_uri": "https://localhost:8080/",
          "height": 637
        },
        "outputId": "afe8c244-59b7-44d3-861c-9aaaf75067a1"
      },
      "source": [
        "# Plotting scatter plots to show dispersion of total goals\n",
        "# Setting the figure size to 15 by 10\n",
        "#\n",
        "fig, axes = plt.subplots(nrows = 2, ncols = 2, figsize = (15, 10))\n",
        "plt.suptitle('Scatter to show dispersion of total goals', fontsize = 15, y = 0.92, color = 'indigo')\n",
        "for ax, data, column, color in zip(axes.flatten(), df, col_list, colors):\n",
        "  sns.scatterplot(df[column], df.total_goals, ax = ax, color = color)\n",
        "  ax.set_facecolor('lavender') # Setting the background color to lavender"
      ],
      "execution_count": 55,
      "outputs": [
        {
          "output_type": "display_data",
          "data": {
            "image/png": "[encoded data removed]",
            "text/plain": [
              "<Figure size 1080x720 with 4 Axes>"
            ]
          },
          "metadata": {
            "tags": []
          }
        }
      ]
    },
    {
      "cell_type": "markdown",
      "metadata": {
        "id": "yuLkT61IG8QD",
        "colab_type": "text"
      },
      "source": [
        "### Distribution of home and away goals"
      ]
    },
    {
      "cell_type": "code",
      "metadata": {
        "id": "PDvBimrl_QOT",
        "colab_type": "code",
        "colab": {
          "base_uri": "https://localhost:8080/",
          "height": 434
        },
        "outputId": "5bd75e0f-7895-4563-ff56-5039a812a8db"
      },
      "source": [
        "# Using displots to plot distribution of home and away scores\n",
        "#\n",
        "fig, axes = plt.subplots(nrows = 1, ncols = 2, figsize = (15, 6))\n",
        "plt.suptitle('Distribution of home and away scores')\n",
        "for ax, data, column, color in zip(axes.flatten(), df, ['home_score', 'away_score'], ['forestgreen', 'midnightblue']):\n",
        "  sns.distplot(df[column], ax = ax, hist = True, color = color)\n",
        "  ax.set_facecolor('lavender')"
      ],
      "execution_count": 56,
      "outputs": [
        {
          "output_type": "display_data",
          "data": {
            "image/png": "[encoded data removed]",
            "text/plain": [
              "<Figure size 1080x432 with 2 Axes>"
            ]
          },
          "metadata": {
            "tags": []
          }
        }
      ]
    },
    {
      "cell_type": "markdown",
      "metadata": {
        "id": "eITDukUDP3pI",
        "colab_type": "text"
      },
      "source": [
        "*From the above histograms, it can be observed that the plots are skewed to the right, which means that the mean is less than both the median and mode of goals scored*"
      ]
    },
    {
      "cell_type": "markdown",
      "metadata": {
        "id": "t3BOZuhEQwwQ",
        "colab_type": "text"
      },
      "source": [
        "### Teams with highest number of goals in all of the tournaments"
      ]
    },
    {
      "cell_type": "code",
      "metadata": {
        "id": "ybL5JElg_QIa",
        "colab_type": "code",
        "colab": {
          "base_uri": "https://localhost:8080/",
          "height": 462
        },
        "outputId": "fd85b01f-0fd1-4e57-ab9a-6f2b9b26feef"
      },
      "source": [
        "# Creating a dataframe of home teams with their total goals scored\n",
        "#\n",
        "total_goals_home = df.groupby('home_team')['home_score'].sum().reset_index()\n",
        "total_goals_home.columns = ['team', 'goals'] # Giving the dataframe column names\n",
        "\n",
        "# Creating a dataframe of away teams with their total goals scored\n",
        "#\n",
        "total_goals_away = df.groupby('away_team')['away_score'].sum().reset_index()\n",
        "total_goals_away.columns = ['team', 'goals'] # Giving the dataframe column names\n",
        "\n",
        "# Concating the two dataframes together and then grouping dataframes by team to find total goals scored\n",
        "#\n",
        "total_goals = pd.concat([total_goals_home, total_goals_away])\n",
        "total_golas = total_goals.sort_values(by = 'goals', ascending = False, inplace = True) # sorting the teams by goals scored\n",
        "total_goals.goals = total_goals.goals.astype(int) # Changing the datatype of the goals column to integer\n",
        "\n",
        "plt.figure(figsize=(13,7))  # Creating a figure of length 13 and height 7\n",
        "ax= sns.barplot(\"goals\",\"team\",data=total_goals[:10],palette=\"cool\",linewidth=1, edgecolor=\"k\"*20)\n",
        "\n",
        "ax.set_facecolor('lavender') # Setting the background color to lavender\n",
        "\n",
        "for i,j in enumerate(\"SCORED  \" + total_goals[\"goals\"][:10].astype(str) + \"  GOALS\"): # Annotating the barplot\n",
        "    ax.text(.7,i,j,fontsize = 10, color=\"k\")\n",
        "\n",
        "plt.title(\"Teams with highest goals in all of the tournaments - Top 10\",color='b')\n",
        "plt.grid(True)\n",
        "plt.show()"
      ],
      "execution_count": 57,
      "outputs": [
        {
          "output_type": "display_data",
          "data": {
            "image/png": "[encoded data removed]",
            "text/plain": [
              "<Figure size 936x504 with 1 Axes>"
            ]
          },
          "metadata": {
            "tags": []
          }
        }
      ]
    },
    {
      "cell_type": "markdown",
      "metadata": {
        "id": "LmSWyGwZWc35",
        "colab_type": "text"
      },
      "source": [
        "*From the above barchart it can be deduced that, Brazil scored the highest number of goals followed closely by Saudi Arabia.\n",
        "The total goals in the above chart are representative of all tournaments that the team participated*"
      ]
    },
    {
      "cell_type": "markdown",
      "metadata": {
        "id": "kvFBk6aeWZCt",
        "colab_type": "text"
      },
      "source": [
        "### Highest total goals scored during a match"
      ]
    },
    {
      "cell_type": "code",
      "metadata": {
        "id": "cxArhRJE_QFs",
        "colab_type": "code",
        "colab": {
          "base_uri": "https://localhost:8080/",
          "height": 626
        },
        "outputId": "1c353f4b-771a-4fb3-80b4-be9a442533a4"
      },
      "source": [
        "# Creating a dataframe of total goals scored and then sorting the dataframe by total goals\n",
        "#\n",
        "highest_goals = df.sort_values(by = 'total_goals', ascending = False)[:10][['date_x', 'home_team', 'away_team', 'home_score', 'away_score', 'total_goals']]\n",
        "\n",
        "# Creating the y axis label\n",
        "#\n",
        "highest_goals['match'] = highest_goals[['home_team', 'away_team']].apply(lambda x: ' .Vs. '.join(x), axis = 1)\n",
        "highest_goals.index = highest_goals.match\n",
        "\n",
        "highest_goals = highest_goals.sort_values(by = 'total_goals', ascending = True) # Sorting the dataframe by total goals\n",
        "\n",
        "# Plotting a horizontal barchart\n",
        "#\n",
        "ax = highest_goals[['home_score', 'away_score']].plot(kind=\"barh\",stacked=True,figsize=(13,10),linewidth=2,edgecolor=\"g\"*15)\n",
        "\n",
        "# Setting the background color to papayawhip\n",
        "#\n",
        "ax.set_facecolor('papayawhip')\n",
        "highest_goals.date_x = highest_goals.date_x.astype(str)\n",
        "\n",
        "plt.ylabel(\"home team vs away team\",color=\"b\") # Naming the y axis\n",
        "plt.xlabel(\"goals\",color=\"b\") # Naming the x axis\n",
        "plt.title(\"Highest total goals scored during a match - Top 10 \",color='b') # Giving the chart a title\n",
        "\n",
        "# Using a for loop to annotate the chart\n",
        "#\n",
        "for i,j in enumerate('Date: ' + highest_goals.date_x):\n",
        "    ax.text(.7,i,j,color=\"w\",fontsize=11)\n",
        "  \n",
        "# Displaying the chart\n",
        "plt.show()"
      ],
      "execution_count": 58,
      "outputs": [
        {
          "output_type": "display_data",
          "data": {
            "image/png": "[encoded data removed]",
            "text/plain": [
              "<Figure size 936x720 with 1 Axes>"
            ]
          },
          "metadata": {
            "tags": []
          }
        }
      ]
    },
    {
      "cell_type": "markdown",
      "metadata": {
        "id": "j6VcfsL8hRGb",
        "colab_type": "text"
      },
      "source": [
        "*The match with the highest number of gaols scored from the above chart is Australia Vs American Samoa*"
      ]
    },
    {
      "cell_type": "markdown",
      "metadata": {
        "id": "4zx6ewnGd8PG",
        "colab_type": "text"
      },
      "source": [
        "### Total goals scored during games by year"
      ]
    },
    {
      "cell_type": "code",
      "metadata": {
        "id": "-zzcUgSleAtz",
        "colab_type": "code",
        "colab": {
          "base_uri": "https://localhost:8080/",
          "height": 462
        },
        "outputId": "3d9b329f-da79-4a8a-9120-24406bfa8828"
      },
      "source": [
        "# Plotting boxplots of year against total goals scored\n",
        "#\n",
        "plt.figure(figsize=(19,7))  # Setting the figure size to 19 by 7\n",
        "ax = sns.boxplot(y=df.total_goals,x=df.year) # Plotting the boxplots for each year\n",
        "ax.set_facecolor('lavender')\n",
        "plt.grid(True, color = 'limegreen', alpha = 0.2)\n",
        "plt.title(\"Total goals scored per year\",color='b')\n",
        "plt.show()"
      ],
      "execution_count": 59,
      "outputs": [
        {
          "output_type": "display_data",
          "data": {
            "image/png": "[encoded data removed]",
            "text/plain": [
              "<Figure size 1368x504 with 1 Axes>"
            ]
          },
          "metadata": {
            "tags": []
          }
        }
      ]
    },
    {
      "cell_type": "markdown",
      "metadata": {
        "id": "TNMze6hPhiSD",
        "colab_type": "text"
      },
      "source": [
        "*The year **2001** had the highest number of total goals scored, and the year **2018** had the least number of goals scored*"
      ]
    },
    {
      "cell_type": "markdown",
      "metadata": {
        "id": "HvRBtKiFgYZV",
        "colab_type": "text"
      },
      "source": [
        "### Average goals per year"
      ]
    },
    {
      "cell_type": "code",
      "metadata": {
        "id": "4Q15zrrWeArF",
        "colab_type": "code",
        "colab": {
          "base_uri": "https://localhost:8080/",
          "height": 481
        },
        "outputId": "4a154a39-4cc1-42b5-863c-6d06b617cea1"
      },
      "source": [
        "# Creating a dataframe of year and total goals\n",
        "#\n",
        "goals = df.groupby('year')['total_goals'].mean().reset_index()\n",
        "goals.year = goals.year.astype(int) # Changing the datatype of the year column to int\n",
        "\n",
        "# Setting the figure size of the plot to 19 by 7\n",
        "#\n",
        "plt.figure(figsize=(19,7))\n",
        "ax = sns.pointplot(goals.year,goals.total_goals,color=\"w\") # Plotting a pointplot to show the trend of average goals scored across the years\n",
        "\n",
        "ax.set_facecolor(\"k\") # setting the background color to black, for contrast\n",
        "plt.grid(True,color=\"grey\",alpha=.3) # Setting the color of the grid lines to grey and setting the opacity to 0.3\n",
        "plt.title(\"Average number goals per year\",color='b', y = 1.05) # Giving the chart a title of color blue\n",
        "plt.show()"
      ],
      "execution_count": 60,
      "outputs": [
        {
          "output_type": "display_data",
          "data": {
            "image/png": "[encoded data removed]",
            "text/plain": [
              "<Figure size 1368x504 with 1 Axes>"
            ]
          },
          "metadata": {
            "tags": []
          }
        }
      ]
    },
    {
      "cell_type": "markdown",
      "metadata": {
        "id": "6RTlOQKPiB_d",
        "colab_type": "text"
      },
      "source": [
        "*From the above line chart, it can be deduced that; generally the number of goals scored per year has been declining since the year **2001** which had the highest number of goals*"
      ]
    },
    {
      "cell_type": "markdown",
      "metadata": {
        "id": "TyEaLLl4nlCe",
        "colab_type": "text"
      },
      "source": [
        "## Approach 1: Using Polynomial regression.\n",
        "Create a model that can predict how many goals the home team scores"
      ]
    },
    {
      "cell_type": "markdown",
      "metadata": {
        "id": "A0_SSOPDpMT9",
        "colab_type": "text"
      },
      "source": [
        "### *Predicting home score*"
      ]
    },
    {
      "cell_type": "code",
      "metadata": {
        "id": "VAQxaGqPiBkj",
        "colab_type": "code",
        "colab": {
          "base_uri": "https://localhost:8080/",
          "height": 204
        },
        "outputId": "cf7063a4-9795-466d-c6af-2b4e44f6e588"
      },
      "source": [
        "# Selecting columns relevant to the reasearch question\n",
        "#\n",
        "dataset = df[['home_team',\t'away_team',\t'home_score',\t'away_score',\t'tournament', 'rank_home', 'rank_away']]\n",
        "\n",
        "# Previewing the first five rows of the dataset\n",
        "#\n",
        "dataset.head()"
      ],
      "execution_count": 61,
      "outputs": [
        {
          "output_type": "execute_result",
          "data": {
            "text/html": [
              "<div>\n",
              "<style scoped>\n",
              "    .dataframe tbody tr th:only-of-type {\n",
              "        vertical-align: middle;\n",
              "    }\n",
              "\n",
              "    .dataframe tbody tr th {\n",
              "        vertical-align: top;\n",
              "    }\n",
              "\n",
              "    .dataframe thead th {\n",
              "        text-align: right;\n",
              "    }\n",
              "</style>\n",
              "<table border=\"1\" class=\"dataframe\">\n",
              "  <thead>\n",
              "    <tr style=\"text-align: right;\">\n",
              "      <th></th>\n",
              "      <th>home_team</th>\n",
              "      <th>away_team</th>\n",
              "      <th>home_score</th>\n",
              "      <th>away_score</th>\n",
              "      <th>tournament</th>\n",
              "      <th>rank_home</th>\n",
              "      <th>rank_away</th>\n",
              "    </tr>\n",
              "  </thead>\n",
              "  <tbody>\n",
              "    <tr>\n",
              "      <th>0</th>\n",
              "      <td>Barbados</td>\n",
              "      <td>Grenada</td>\n",
              "      <td>0</td>\n",
              "      <td>0</td>\n",
              "      <td>Friendly</td>\n",
              "      <td>99.0</td>\n",
              "      <td>131.0</td>\n",
              "    </tr>\n",
              "    <tr>\n",
              "      <th>1</th>\n",
              "      <td>Barbados</td>\n",
              "      <td>Grenada</td>\n",
              "      <td>0</td>\n",
              "      <td>0</td>\n",
              "      <td>Friendly</td>\n",
              "      <td>99.0</td>\n",
              "      <td>131.0</td>\n",
              "    </tr>\n",
              "    <tr>\n",
              "      <th>2</th>\n",
              "      <td>Ghana</td>\n",
              "      <td>Egypt</td>\n",
              "      <td>2</td>\n",
              "      <td>1</td>\n",
              "      <td>Friendly</td>\n",
              "      <td>29.0</td>\n",
              "      <td>24.0</td>\n",
              "    </tr>\n",
              "    <tr>\n",
              "      <th>3</th>\n",
              "      <td>Mali</td>\n",
              "      <td>Burkina Faso</td>\n",
              "      <td>1</td>\n",
              "      <td>1</td>\n",
              "      <td>Friendly</td>\n",
              "      <td>48.0</td>\n",
              "      <td>101.0</td>\n",
              "    </tr>\n",
              "    <tr>\n",
              "      <th>4</th>\n",
              "      <td>Mauritania</td>\n",
              "      <td>Mali</td>\n",
              "      <td>1</td>\n",
              "      <td>3</td>\n",
              "      <td>Friendly</td>\n",
              "      <td>147.0</td>\n",
              "      <td>48.0</td>\n",
              "    </tr>\n",
              "  </tbody>\n",
              "</table>\n",
              "</div>"
            ],
            "text/plain": [
              "    home_team     away_team  home_score  ...  tournament rank_home  rank_away\n",
              "0    Barbados       Grenada           0  ...    Friendly      99.0      131.0\n",
              "1    Barbados       Grenada           0  ...    Friendly      99.0      131.0\n",
              "2       Ghana         Egypt           2  ...    Friendly      29.0       24.0\n",
              "3        Mali  Burkina Faso           1  ...    Friendly      48.0      101.0\n",
              "4  Mauritania          Mali           1  ...    Friendly     147.0       48.0\n",
              "\n",
              "[5 rows x 7 columns]"
            ]
          },
          "metadata": {
            "tags": []
          },
          "execution_count": 61
        }
      ]
    },
    {
      "cell_type": "markdown",
      "metadata": {
        "id": "YqFuPfTJst4j",
        "colab_type": "text"
      },
      "source": [
        "#### Checking for multicollinearity\n",
        "[Multicollinearity](https://en.wikipedia.org/wiki/Multicollinearity) refers to a situation in which two or more explanatory variables in a multiple regression model are highly linearly related. We have perfect multicollinearity if, for example as in the equation above, the correlation between two independent variables is equal to 1 or −1"
      ]
    },
    {
      "cell_type": "code",
      "metadata": {
        "id": "7Hmbn74os1t0",
        "colab_type": "code",
        "colab": {
          "base_uri": "https://localhost:8080/",
          "height": 142
        },
        "outputId": "e26e8505-74bc-4f39-9ff8-0f873c2c63c7"
      },
      "source": [
        "# Displaying the correlations between the variables\n",
        "#\n",
        "corrs = dataset.drop('home_score', axis = 1).corr()\n",
        "corrs"
      ],
      "execution_count": 62,
      "outputs": [
        {
          "output_type": "execute_result",
          "data": {
            "text/html": [
              "<div>\n",
              "<style scoped>\n",
              "    .dataframe tbody tr th:only-of-type {\n",
              "        vertical-align: middle;\n",
              "    }\n",
              "\n",
              "    .dataframe tbody tr th {\n",
              "        vertical-align: top;\n",
              "    }\n",
              "\n",
              "    .dataframe thead th {\n",
              "        text-align: right;\n",
              "    }\n",
              "</style>\n",
              "<table border=\"1\" class=\"dataframe\">\n",
              "  <thead>\n",
              "    <tr style=\"text-align: right;\">\n",
              "      <th></th>\n",
              "      <th>away_score</th>\n",
              "      <th>rank_home</th>\n",
              "      <th>rank_away</th>\n",
              "    </tr>\n",
              "  </thead>\n",
              "  <tbody>\n",
              "    <tr>\n",
              "      <th>away_score</th>\n",
              "      <td>1.000000</td>\n",
              "      <td>0.213023</td>\n",
              "      <td>-0.184574</td>\n",
              "    </tr>\n",
              "    <tr>\n",
              "      <th>rank_home</th>\n",
              "      <td>0.213023</td>\n",
              "      <td>1.000000</td>\n",
              "      <td>0.481889</td>\n",
              "    </tr>\n",
              "    <tr>\n",
              "      <th>rank_away</th>\n",
              "      <td>-0.184574</td>\n",
              "      <td>0.481889</td>\n",
              "      <td>1.000000</td>\n",
              "    </tr>\n",
              "  </tbody>\n",
              "</table>\n",
              "</div>"
            ],
            "text/plain": [
              "            away_score  rank_home  rank_away\n",
              "away_score    1.000000   0.213023  -0.184574\n",
              "rank_home     0.213023   1.000000   0.481889\n",
              "rank_away    -0.184574   0.481889   1.000000"
            ]
          },
          "metadata": {
            "tags": []
          },
          "execution_count": 62
        }
      ]
    },
    {
      "cell_type": "markdown",
      "metadata": {
        "id": "0v-uu7uktxhv",
        "colab_type": "text"
      },
      "source": [
        "*The tabe above shows how each variable relates to another. The coefficient of 1 across the diagonal makes sense, as a variable is perfectly correlated to itself. The correlations have been used to compute the VIF (Variance Inflation Factor) score for each variable.The VIF is created by finding the inverse matrix of the correations matrix.*"
      ]
    },
    {
      "cell_type": "code",
      "metadata": {
        "id": "07vQ2FUus1qX",
        "colab_type": "code",
        "colab": {
          "base_uri": "https://localhost:8080/",
          "height": 142
        },
        "outputId": "6b2e109f-8ccd-4786-a418-0214d50c9518"
      },
      "source": [
        "# Creating a dataframe of the VIF\n",
        "#\n",
        "vif_df = pd.DataFrame(np.linalg.inv(corrs.values), index = corrs.index, columns = corrs.columns)\n",
        "vif_df"
      ],
      "execution_count": 63,
      "outputs": [
        {
          "output_type": "execute_result",
          "data": {
            "text/html": [
              "<div>\n",
              "<style scoped>\n",
              "    .dataframe tbody tr th:only-of-type {\n",
              "        vertical-align: middle;\n",
              "    }\n",
              "\n",
              "    .dataframe tbody tr th {\n",
              "        vertical-align: top;\n",
              "    }\n",
              "\n",
              "    .dataframe thead th {\n",
              "        text-align: right;\n",
              "    }\n",
              "</style>\n",
              "<table border=\"1\" class=\"dataframe\">\n",
              "  <thead>\n",
              "    <tr style=\"text-align: right;\">\n",
              "      <th></th>\n",
              "      <th>away_score</th>\n",
              "      <th>rank_home</th>\n",
              "      <th>rank_away</th>\n",
              "    </tr>\n",
              "  </thead>\n",
              "  <tbody>\n",
              "    <tr>\n",
              "      <th>away_score</th>\n",
              "      <td>1.180402</td>\n",
              "      <td>-0.464249</td>\n",
              "      <td>0.441589</td>\n",
              "    </tr>\n",
              "    <tr>\n",
              "      <th>rank_home</th>\n",
              "      <td>-0.464249</td>\n",
              "      <td>1.485040</td>\n",
              "      <td>-0.801313</td>\n",
              "    </tr>\n",
              "    <tr>\n",
              "      <th>rank_away</th>\n",
              "      <td>0.441589</td>\n",
              "      <td>-0.801313</td>\n",
              "      <td>1.467650</td>\n",
              "    </tr>\n",
              "  </tbody>\n",
              "</table>\n",
              "</div>"
            ],
            "text/plain": [
              "            away_score  rank_home  rank_away\n",
              "away_score    1.180402  -0.464249   0.441589\n",
              "rank_home    -0.464249   1.485040  -0.801313\n",
              "rank_away     0.441589  -0.801313   1.467650"
            ]
          },
          "metadata": {
            "tags": []
          },
          "execution_count": 63
        }
      ]
    },
    {
      "cell_type": "code",
      "metadata": {
        "id": "Xs17mJ9cs1iL",
        "colab_type": "code",
        "colab": {
          "base_uri": "https://localhost:8080/",
          "height": 375
        },
        "outputId": "fc2b3258-e2f2-42b6-ca1d-9ffffc6c08c1"
      },
      "source": [
        "# Creating a heatmap of the vif_df\n",
        "#\n",
        "plt.figure(figsize = (10, 6))\n",
        "sns.heatmap(vif_df, annot = True)\n",
        "plt.show()"
      ],
      "execution_count": 64,
      "outputs": [
        {
          "output_type": "display_data",
          "data": {
            "image/png": "[encoded data removed]",
            "text/plain": [
              "<Figure size 720x432 with 2 Axes>"
            ]
          },
          "metadata": {
            "tags": []
          }
        }
      ]
    },
    {
      "cell_type": "markdown",
      "metadata": {
        "id": "d3sMGc0vvWg2",
        "colab_type": "text"
      },
      "source": [
        "*The VIF score for each variable is found alongside the downwards sloping diagonal. away_score has a score of approximately 1.2, rank_away has a score of approximately 1.5 and rank_away has a score of approximately 1.5.\n",
        "All of this scores are under 5, therefore there is no multicollinearity*"
      ]
    },
    {
      "cell_type": "markdown",
      "metadata": {
        "id": "dtYuI0pTwbFs",
        "colab_type": "text"
      },
      "source": [
        "#### Creating the polynomial model"
      ]
    },
    {
      "cell_type": "code",
      "metadata": {
        "id": "3Z4eq_CueAlL",
        "colab_type": "code",
        "colab": {
          "base_uri": "https://localhost:8080/",
          "height": 34
        },
        "outputId": "3a052af6-c52c-422c-a702-b92b38be6497"
      },
      "source": [
        "# Creating X and y variables\n",
        "#\n",
        "X = dataset.iloc[:, [0, 1, 3, 4, 5, 6]]\n",
        "y = dataset.home_score\n",
        "\n",
        "# Encoding categorical variables\n",
        "#\n",
        "X = pd.get_dummies(X, drop_first=True)\n",
        "\n",
        "# Splitting the dataset into training and testing sets\n",
        "#\n",
        "X_train, X_test, y_train, y_test = train_test_split(X, y, test_size = 0.25, random_state = 101)\n",
        "\n",
        "# Standardising the X_train and the X_test to the same scale\n",
        "#\n",
        "sc = StandardScaler()\n",
        "X_train = sc.fit_transform(X_train)\n",
        "X_test = sc.transform(X_test)\n",
        "\n",
        "# Fitting the polynomial features to the X_train and X_test\n",
        "#\n",
        "poly_features = PolynomialFeatures(degree = 1)\n",
        "X_train = poly_features.fit_transform(X_train)\n",
        "X_test = poly_features.fit_transform(X_test)\n",
        "\n",
        "# Training the model\n",
        "#\n",
        "regressor = LinearRegression()\n",
        "regressor.fit(X_train, y_train)\n",
        "\n",
        "# Making predictions\n",
        "#\n",
        "y_pred = regressor.predict(X_test)\n",
        "\n",
        "# Measuring the accuracy of the model\n",
        "#\n",
        "print(np.sqrt(mean_squared_error(y_test, y_pred)))"
      ],
      "execution_count": 65,
      "outputs": [
        {
          "output_type": "stream",
          "text": [
            "1.3278064476746914\n"
          ],
          "name": "stdout"
        }
      ]
    },
    {
      "cell_type": "markdown",
      "metadata": {
        "id": "Bs7tZDIE-uty",
        "colab_type": "text"
      },
      "source": [
        "*The lower the RMSE of a model, the better the performance of the model. Therefore, this model is fairly good in making predictions*"
      ]
    },
    {
      "cell_type": "markdown",
      "metadata": {
        "id": "Ee4HcyU33cnu",
        "colab_type": "text"
      },
      "source": [
        "#### Hyperparameter tuning to find the optimal parameters for the model"
      ]
    },
    {
      "cell_type": "code",
      "metadata": {
        "id": "LtBC7ZH54VNH",
        "colab_type": "code",
        "colab": {
          "base_uri": "https://localhost:8080/",
          "height": 34
        },
        "outputId": "033bbbce-e871-45a7-a441-d9150e3ec4b7"
      },
      "source": [
        "# Tuning the parameters of the linear regression model to find the optimal \n",
        "# Printing the Linear Regression model parameters that can be tuned\n",
        "#\n",
        "from sklearn.linear_model import LinearRegression\n",
        "LinearRegression()"
      ],
      "execution_count": 66,
      "outputs": [
        {
          "output_type": "execute_result",
          "data": {
            "text/plain": [
              "LinearRegression(copy_X=True, fit_intercept=True, n_jobs=None, normalize=False)"
            ]
          },
          "metadata": {
            "tags": []
          },
          "execution_count": 66
        }
      ]
    },
    {
      "cell_type": "code",
      "metadata": {
        "id": "pUxff-iE5hOa",
        "colab_type": "code",
        "colab": {
          "base_uri": "https://localhost:8080/",
          "height": 34
        },
        "outputId": "70e8b942-3d72-463a-812a-1b57ae49d44d"
      },
      "source": [
        "# The parameters that can be tuned are fitting the intercept and normalizing\n",
        "# Creating a parameters dictionary\n",
        "#\n",
        "params = {'normalize': [True, False],\n",
        "         'fit_intercept': [True, False]}\n",
        "\n",
        "# Creating a cross validation of 10 folds\n",
        "#\n",
        "kfold = KFold(n_splits = 10)\n",
        "\n",
        "# Using grid search to find the optimal parameters\n",
        "#\n",
        "grid_search = GridSearchCV(estimator=regressor, param_grid = params, cv = kfold, scoring = 'neg_mean_squared_error')\n",
        "\n",
        "# Fitting the grid search \n",
        "#\n",
        "grid_search_results = grid_search.fit(X, y)\n",
        "\n",
        "# Displaying the best parameters and the the best score\n",
        "#\n",
        "print(f'Best score is {grid_search.best_score_} and the best parameters are {grid_search.best_params_}')"
      ],
      "execution_count": 67,
      "outputs": [
        {
          "output_type": "stream",
          "text": [
            "Best score is -1.8751779365911774 and the best parameters are {'fit_intercept': True, 'normalize': False}\n"
          ],
          "name": "stdout"
        }
      ]
    },
    {
      "cell_type": "markdown",
      "metadata": {
        "id": "MwkizEgs7_Gy",
        "colab_type": "text"
      },
      "source": [
        "*The optimal parameters for this model are {'fit_intercept': True, 'normalize': False}*"
      ]
    },
    {
      "cell_type": "markdown",
      "metadata": {
        "id": "JmKKj4ec3PYK",
        "colab_type": "text"
      },
      "source": [
        "#### Performing cross validation to check for overfitting or underfitting"
      ]
    },
    {
      "cell_type": "code",
      "metadata": {
        "id": "oXHgYK5F3Z4_",
        "colab_type": "code",
        "colab": {
          "base_uri": "https://localhost:8080/",
          "height": 51
        },
        "outputId": "04382c38-fdf1-406c-d62d-6619b620b255"
      },
      "source": [
        "# Performing cross validation of ten folds\n",
        "#\n",
        "scores = cross_val_score(regressor, X, y, scoring = 'neg_mean_squared_error', cv = 10)\n",
        "\n",
        "# Calculating the mean of the cross validation scores\n",
        "#\n",
        "print(f'Mean of cross validation scores is {np.round(scores.mean()*-1, 3)}')\n",
        "\n",
        "# Calculating the variance of the cross validation scores from the mean\n",
        "#\n",
        "print(f'Standard deviation of the cross validation scores is {np.round(scores.std(), 3)}')"
      ],
      "execution_count": 68,
      "outputs": [
        {
          "output_type": "stream",
          "text": [
            "Mean of cross validation scores is 1.875\n",
            "Standard deviation of the cross validation scores is 0.241\n"
          ],
          "name": "stdout"
        }
      ]
    },
    {
      "cell_type": "markdown",
      "metadata": {
        "id": "Zma_yxKY-e_7",
        "colab_type": "text"
      },
      "source": [
        "*From the above mean and standard deviation it can be seen the model is fairly stable, as it varies only by 0.24, from the mean*"
      ]
    },
    {
      "cell_type": "markdown",
      "metadata": {
        "id": "nurKkhvYxJQ6",
        "colab_type": "text"
      },
      "source": [
        "#### Checking the appripriateness of the model using a residual plot\n",
        "A [residual](https://stattrek.com/statistics/dictionary.aspx?definition=residual%20plot) plot is a graph that shows the residuals on the vertical axis and the independent variable on the horizontal axis. If the points in a residual plot are randomly dispersed around the horizontal axis, a linear regression model is appropriate for the data; otherwise, a non-linear model is more appropriate."
      ]
    },
    {
      "cell_type": "code",
      "metadata": {
        "id": "naCAt0IheARD",
        "colab_type": "code",
        "colab": {
          "base_uri": "https://localhost:8080/",
          "height": 299
        },
        "outputId": "a5f4dc70-8d70-4784-84f5-dc81bdb59807"
      },
      "source": [
        "# Plotting the residual plot\n",
        "# Residuals have been calculated by by substracting the test value from the predicted value\n",
        "# \n",
        "residuals = np.subtract(y_pred, y_test)\n",
        "\n",
        "# Plotting the residual scatterplot\n",
        "#\n",
        "plt.scatter(y_pred, residuals, color='black')\n",
        "plt.title('Residual Plot')\n",
        "plt.ylabel('residual')\n",
        "plt.xlabel('fitted values')\n",
        "plt.axhline(y= residuals.mean(), color='red', linewidth=1)\n",
        "plt.show()"
      ],
      "execution_count": 69,
      "outputs": [
        {
          "output_type": "display_data",
          "data": {
            "image/png": "[encoded data removed]",
            "text/plain": [
              "<Figure size 432x288 with 1 Axes>"
            ]
          },
          "metadata": {
            "tags": []
          }
        }
      ]
    },
    {
      "cell_type": "markdown",
      "metadata": {
        "id": "5On7GSjayfpv",
        "colab_type": "text"
      },
      "source": [
        "*The residuals are centered around a mean that is very close to 0, and there are no glaringly obvious patterns. \n",
        "This shows that the model is fairly good*"
      ]
    },
    {
      "cell_type": "markdown",
      "metadata": {
        "id": "8utIa6uayzCG",
        "colab_type": "text"
      },
      "source": [
        "#### Heteroskedasticity test using the barlett's test\n",
        "The concept of [heteroscedasticity](https://www.xlstat.com/en/solutions/features/heteroscedasticity-tests) - the opposite being homoscedasticity - is used in statistics, especially in the context of linear regression or for time series analysis, to describe the case where the variance of errors or the model is not the same for all observations, while often one of the basic assumption in modeling is that the variances are homogeneous and that the errors of the model are identically distributed.\n",
        "\n",
        "The barlett'stest establishes as a null hypothesis that the variance is equal for all our datapoints,and the new hypothesis that the variance is different for at least one pair of datapoints"
      ]
    },
    {
      "cell_type": "code",
      "metadata": {
        "id": "HuQgTZmLeANl",
        "colab_type": "code",
        "colab": {
          "base_uri": "https://localhost:8080/",
          "height": 68
        },
        "outputId": "be69a9d0-4cb3-4f22-fd0e-0da2f052f034"
      },
      "source": [
        "# Performing the barlett's test\n",
        "#\n",
        "test_result, p_value = sp.stats.bartlett(y_pred, residuals)\n",
        "\n",
        "# Calculating the critical value of the chi squared distribution, to compare it with the test_result\n",
        "#\n",
        "degrees_of_freedom = len(y_pred) - 1\n",
        "probability =  1 - p_value\n",
        "critical_value = sp.stats.chi2.ppf(probability, degrees_of_freedom)\n",
        "\n",
        "# If the test_result is greater than the critical value, then the null hypothesis is\n",
        "# rejected. This means that there are patterns to the variance of the data\n",
        "\n",
        "# Otherwise, if no patterns are identified, null hypothesis is accepted. This means that \n",
        "# the variance is homogeneous across the dataset\n",
        "\n",
        "if (test_result > critical_value):\n",
        "  print(f'The test result of {np.round(test_result,2)} is greater than the critical value of {np.round(critical_value, 2)}')\n",
        "  print('Thefore the variances are unequal, which means that the model should be reassessed')\n",
        "  print('The variances are heterogenous')\n",
        "else:\n",
        "  print(f'The test result of {np.round(test_result,2)} is less than the critical value of {np.round(critical_value, 2)}')\n",
        "  print('Thefore the variances are equal, which means that the model is okey. No need to reasses')\n",
        "  print('The variances are homogeneous')"
      ],
      "execution_count": 70,
      "outputs": [
        {
          "output_type": "stream",
          "text": [
            "The test result of 521.82 is less than the critical value of inf\n",
            "Thefore the variances are equal, which means that the model is okey. No need to reasses\n",
            "The variances are homogeneous\n"
          ],
          "name": "stdout"
        }
      ]
    },
    {
      "cell_type": "markdown",
      "metadata": {
        "id": "6Dn8mo2S_iU7",
        "colab_type": "text"
      },
      "source": [
        "## Approach 2: Using Logistic Regression.\n",
        "Create a model that can predict whether the home team will win, draw or lose"
      ]
    },
    {
      "cell_type": "code",
      "metadata": {
        "id": "7SeVhKQbeAGP",
        "colab_type": "code",
        "colab": {
          "base_uri": "https://localhost:8080/",
          "height": 204
        },
        "outputId": "cc49eb23-988b-42ed-a088-9335aeddf8f3"
      },
      "source": [
        "# Selecting the relevant features for the logistic regression model\n",
        "#\n",
        "data = df[['home_team', 'away_team', 'home_score', 'away_score', 'tournament', 'year', 'rank_home', 'rank_away', 'result']]\n",
        "\n",
        "# Previewing the first five rows of the data\n",
        "#\n",
        "data.head()"
      ],
      "execution_count": 71,
      "outputs": [
        {
          "output_type": "execute_result",
          "data": {
            "text/html": [
              "<div>\n",
              "<style scoped>\n",
              "    .dataframe tbody tr th:only-of-type {\n",
              "        vertical-align: middle;\n",
              "    }\n",
              "\n",
              "    .dataframe tbody tr th {\n",
              "        vertical-align: top;\n",
              "    }\n",
              "\n",
              "    .dataframe thead th {\n",
              "        text-align: right;\n",
              "    }\n",
              "</style>\n",
              "<table border=\"1\" class=\"dataframe\">\n",
              "  <thead>\n",
              "    <tr style=\"text-align: right;\">\n",
              "      <th></th>\n",
              "      <th>home_team</th>\n",
              "      <th>away_team</th>\n",
              "      <th>home_score</th>\n",
              "      <th>away_score</th>\n",
              "      <th>tournament</th>\n",
              "      <th>year</th>\n",
              "      <th>rank_home</th>\n",
              "      <th>rank_away</th>\n",
              "      <th>result</th>\n",
              "    </tr>\n",
              "  </thead>\n",
              "  <tbody>\n",
              "    <tr>\n",
              "      <th>0</th>\n",
              "      <td>Barbados</td>\n",
              "      <td>Grenada</td>\n",
              "      <td>0</td>\n",
              "      <td>0</td>\n",
              "      <td>Friendly</td>\n",
              "      <td>1994</td>\n",
              "      <td>99.0</td>\n",
              "      <td>131.0</td>\n",
              "      <td>Draw</td>\n",
              "    </tr>\n",
              "    <tr>\n",
              "      <th>1</th>\n",
              "      <td>Barbados</td>\n",
              "      <td>Grenada</td>\n",
              "      <td>0</td>\n",
              "      <td>0</td>\n",
              "      <td>Friendly</td>\n",
              "      <td>1994</td>\n",
              "      <td>99.0</td>\n",
              "      <td>131.0</td>\n",
              "      <td>Draw</td>\n",
              "    </tr>\n",
              "    <tr>\n",
              "      <th>2</th>\n",
              "      <td>Ghana</td>\n",
              "      <td>Egypt</td>\n",
              "      <td>2</td>\n",
              "      <td>1</td>\n",
              "      <td>Friendly</td>\n",
              "      <td>1994</td>\n",
              "      <td>29.0</td>\n",
              "      <td>24.0</td>\n",
              "      <td>Win</td>\n",
              "    </tr>\n",
              "    <tr>\n",
              "      <th>3</th>\n",
              "      <td>Mali</td>\n",
              "      <td>Burkina Faso</td>\n",
              "      <td>1</td>\n",
              "      <td>1</td>\n",
              "      <td>Friendly</td>\n",
              "      <td>1994</td>\n",
              "      <td>48.0</td>\n",
              "      <td>101.0</td>\n",
              "      <td>Draw</td>\n",
              "    </tr>\n",
              "    <tr>\n",
              "      <th>4</th>\n",
              "      <td>Mauritania</td>\n",
              "      <td>Mali</td>\n",
              "      <td>1</td>\n",
              "      <td>3</td>\n",
              "      <td>Friendly</td>\n",
              "      <td>1994</td>\n",
              "      <td>147.0</td>\n",
              "      <td>48.0</td>\n",
              "      <td>Lose</td>\n",
              "    </tr>\n",
              "  </tbody>\n",
              "</table>\n",
              "</div>"
            ],
            "text/plain": [
              "    home_team     away_team  home_score  ...  rank_home rank_away result\n",
              "0    Barbados       Grenada           0  ...       99.0     131.0   Draw\n",
              "1    Barbados       Grenada           0  ...       99.0     131.0   Draw\n",
              "2       Ghana         Egypt           2  ...       29.0      24.0    Win\n",
              "3        Mali  Burkina Faso           1  ...       48.0     101.0   Draw\n",
              "4  Mauritania          Mali           1  ...      147.0      48.0   Lose\n",
              "\n",
              "[5 rows x 9 columns]"
            ]
          },
          "metadata": {
            "tags": []
          },
          "execution_count": 71
        }
      ]
    },
    {
      "cell_type": "code",
      "metadata": {
        "id": "3OCBxmCiEIAf",
        "colab_type": "code",
        "colab": {
          "base_uri": "https://localhost:8080/",
          "height": 408
        },
        "outputId": "50bde995-6c87-4bb9-c95b-f410a36c2861"
      },
      "source": [
        "# Checking whether the data is well balanced between all the results; win draw or lose\n",
        "#\n",
        "plt.figure(figsize = (10, 6))\n",
        "ax = sns.countplot(data.result)\n",
        "ax.set_facecolor('mistyrose')\n",
        "plt.ylabel('Frequency')\n",
        "plt.xlabel('Result')\n",
        "plt.title('Barchart Showing Frequency of results')\n",
        "plt.show()"
      ],
      "execution_count": 72,
      "outputs": [
        {
          "output_type": "display_data",
          "data": {
            "image/png": "[encoded data removed]",
            "text/plain": [
              "<Figure size 720x432 with 1 Axes>"
            ]
          },
          "metadata": {
            "tags": []
          }
        }
      ]
    },
    {
      "cell_type": "markdown",
      "metadata": {
        "id": "hDqY9fQ6FNMZ",
        "colab_type": "text"
      },
      "source": [
        "*From the above chart, the results are fairly balanced*"
      ]
    },
    {
      "cell_type": "code",
      "metadata": {
        "id": "suTBtlDrIvSS",
        "colab_type": "code",
        "colab": {
          "base_uri": "https://localhost:8080/",
          "height": 392
        },
        "outputId": "5617dc1b-0886-43aa-9b9a-a7fe6fe8652b"
      },
      "source": [
        "# Checking for correlations between features\n",
        "#\n",
        "plt.figure(figsize = (10, 6))\n",
        "sns.heatmap(data.corr(), annot = True) \n",
        "plt.title('Heatmap showing correlation between variables')\n",
        "plt.show()"
      ],
      "execution_count": 73,
      "outputs": [
        {
          "output_type": "display_data",
          "data": {
            "image/png": "[encoded data removed]",
            "text/plain": [
              "<Figure size 720x432 with 2 Axes>"
            ]
          },
          "metadata": {
            "tags": []
          }
        }
      ]
    },
    {
      "cell_type": "markdown",
      "metadata": {
        "id": "KOa_P3laCYW1",
        "colab_type": "text"
      },
      "source": [
        "#### Creating a LogisticRegression model"
      ]
    },
    {
      "cell_type": "code",
      "metadata": {
        "id": "TAJWt3Yd3CdV",
        "colab_type": "code",
        "colab": {
          "base_uri": "https://localhost:8080/",
          "height": 102
        },
        "outputId": "0a27ecfe-3fcd-40c0-8b6c-1c1b189cc878"
      },
      "source": [
        "# Spliting the data into features and the target variable\n",
        "#\n",
        "X = data.drop('result', axis = 1)\n",
        "y = data.result\n",
        "\n",
        "# Encoding the categorical features\n",
        "#\n",
        "X = pd.get_dummies(X, drop_first=True)\n",
        "\n",
        "# Spliting the data into training and testing sets\n",
        "#\n",
        "X_train, X_test, y_train, y_test = train_test_split(X, y, test_size = 0.25, random_state = 101)\n",
        "\n",
        "# Instantiating the model and training the model\n",
        "#\n",
        "logistic = LogisticRegression()\n",
        "logistic.fit(X_train, y_train)\n",
        "\n",
        "# Making predictions\n",
        "#\n",
        "y_pred = logistic.predict(X_test)\n",
        "\n",
        "# Measuring the accuracy of the model\n",
        "#\n",
        "print(f'The accuracy of the model is {accuracy_score(y_test, y_pred)}')\n",
        "print(f'The f1 score of the model is {f1_score(y_test, y_pred, average = \"macro\")}')\n",
        "confusion_matrix(y_test, y_pred)"
      ],
      "execution_count": 74,
      "outputs": [
        {
          "output_type": "stream",
          "text": [
            "The accuracy of the model is 1.0\n",
            "The f1 score of the model is 1.0\n"
          ],
          "name": "stdout"
        },
        {
          "output_type": "execute_result",
          "data": {
            "text/plain": [
              "array([[1123,    0,    0],\n",
              "       [   0, 1310,    0],\n",
              "       [   0,    0, 2250]])"
            ]
          },
          "metadata": {
            "tags": []
          },
          "execution_count": 74
        }
      ]
    },
    {
      "cell_type": "markdown",
      "metadata": {
        "id": "_qoB-Q6bJgK6",
        "colab_type": "text"
      },
      "source": [
        "*The model above has an accuracy of approximately 100% and an f1_score of approximately 1.\n",
        "The model is clearly overfitting on the training data; further investigation and assessment is needed*"
      ]
    },
    {
      "cell_type": "markdown",
      "metadata": {
        "id": "vNrNzVhVKO36",
        "colab_type": "text"
      },
      "source": [
        "#### Hyperparameter tuning"
      ]
    },
    {
      "cell_type": "code",
      "metadata": {
        "id": "pjCNO5X03CY9",
        "colab_type": "code",
        "colab": {
          "base_uri": "https://localhost:8080/",
          "height": 102
        },
        "outputId": "c7d7b555-18cf-4a02-d38b-c6ed0ed0a137"
      },
      "source": [
        "# Displaying parameters of the logistic regression model that can be tuned\n",
        "#\n",
        "LogisticRegression()"
      ],
      "execution_count": 75,
      "outputs": [
        {
          "output_type": "execute_result",
          "data": {
            "text/plain": [
              "LogisticRegression(C=1.0, class_weight=None, dual=False, fit_intercept=True,\n",
              "                   intercept_scaling=1, l1_ratio=None, max_iter=100,\n",
              "                   multi_class='auto', n_jobs=None, penalty='l2',\n",
              "                   random_state=None, solver='lbfgs', tol=0.0001, verbose=0,\n",
              "                   warm_start=False)"
            ]
          },
          "metadata": {
            "tags": []
          },
          "execution_count": 75
        }
      ]
    },
    {
      "cell_type": "code",
      "metadata": {
        "id": "EAIdDIpb3CVc",
        "colab_type": "code",
        "colab": {
          "base_uri": "https://localhost:8080/",
          "height": 34
        },
        "outputId": "278efc0c-49ce-48b4-d8a2-575d784da572"
      },
      "source": [
        "# Creating a dictioanry of parameters to be tuned\n",
        "#\n",
        "params = {'C': [1.0, 5.0],\n",
        "         'penalty': ['l1', 'l2']}\n",
        "\n",
        "logistic = LogisticRegression()\n",
        "\n",
        "# Creating a cross validation of 10 folds\n",
        "#\n",
        "kfold = KFold(n_splits = 10)\n",
        "\n",
        "# Using grid search to find the optimal parameters\n",
        "#\n",
        "grid_search = GridSearchCV(estimator=logistic, param_grid = params, cv = kfold, scoring = 'accuracy')\n",
        "\n",
        "# Fitting the grid search \n",
        "#\n",
        "grid_search_results = grid_search.fit(X, y)\n",
        "\n",
        "# Displaying the best parameters and the the best score\n",
        "#\n",
        "print(f'Best score is {grid_search.best_score_} and the best parameters are {grid_search.best_params_}')"
      ],
      "execution_count": 76,
      "outputs": [
        {
          "output_type": "stream",
          "text": [
            "Best score is 1.0 and the best parameters are {'C': 1.0, 'penalty': 'l2'}\n"
          ],
          "name": "stdout"
        }
      ]
    },
    {
      "cell_type": "markdown",
      "metadata": {
        "id": "KYULKol_W8J1",
        "colab_type": "text"
      },
      "source": [
        "*From above, it can observed that the best parameters are {'C': 1.0, 'penalty': 'l1'} which give a score of 1*"
      ]
    },
    {
      "cell_type": "markdown",
      "metadata": {
        "id": "RuThV2YOPMhX",
        "colab_type": "text"
      },
      "source": [
        "## Challenging the solution\n",
        "Using other models to make pedictions, so as to find the best model"
      ]
    },
    {
      "cell_type": "markdown",
      "metadata": {
        "id": "h_RXTqN-PyYO",
        "colab_type": "text"
      },
      "source": [
        "#### Finding the best model"
      ]
    },
    {
      "cell_type": "code",
      "metadata": {
        "id": "2C9t81Fp3CRK",
        "colab_type": "code",
        "colab": {}
      },
      "source": [
        "# Importing different classification models\n",
        "#\n",
        "from sklearn.model_selection import KFold, cross_val_score\n",
        "from sklearn.ensemble import RandomForestClassifier, GradientBoostingClassifier, AdaBoostClassifier\n",
        "from sklearn.tree import DecisionTreeClassifier\n",
        "from sklearn.naive_bayes import GaussianNB\n",
        "from sklearn.svm import SVC\n",
        "from sklearn.neighbors import KNeighborsClassifier\n",
        "from xgboost import XGBClassifier\n",
        "from sklearn.linear_model import LogisticRegression\n",
        "from sklearn.metrics import accuracy_score\n",
        "import warnings\n",
        "warnings.filterwarnings('ignore')\n",
        "\n",
        "# Creating a list of classifier algorithms to compare with\n",
        "#\n",
        "models = [RandomForestClassifier(), GradientBoostingClassifier(), AdaBoostClassifier(), DecisionTreeClassifier(), XGBClassifier(), SVC(), KNeighborsClassifier(),\\\n",
        "          GaussianNB(), LogisticRegression()]\n",
        "\n",
        "# Creating lists of the algorithms, to store the accuracy scores of each fold\n",
        "#\n",
        "RandomForest, GradientBoosting, AdaBoost, DecisionTree, XGB, SVC, KNeighbors, GaussianNB, LogisticRegression = ([] for x in range(9))\n",
        "\n",
        "# Creating a list containig the list of each algorithm. Created for easy iteration\n",
        "#\n",
        "model_list = [RandomForest, GradientBoosting, AdaBoost, DecisionTree, XGB, SVC, KNeighbors, GaussianNB, LogisticRegression]\n",
        "\n",
        "# Spliting the data into features and the target variable\n",
        "#\n",
        "X = data.drop('result', axis = 1)\n",
        "y = data.result\n",
        "\n",
        "# Encoding the categorical features\n",
        "#\n",
        "X = pd.get_dummies(X, drop_first=True)\n",
        "\n",
        "# Creating a cross validation of 10 folds\n",
        "#\n",
        "kfold  = KFold(n_splits=10, random_state=101)\n",
        "\n",
        "# Iterating through each model and appending the scores of each fold to the appriopriate list\n",
        "#\n",
        "for i, j in zip(models, model_list):\n",
        "  j.extend(list(cross_val_score(i, X, y, scoring = 'accuracy', cv = kfold)))\n",
        "  \n",
        "# Creating a dataframe of all the scores from the iterations for each model\n",
        "#\n",
        "scores = pd.DataFrame({'RandomForest': RandomForest, 'GradientBoosting': GradientBoosting, 'Adaboost': AdaBoost, 'DecisionTree': DecisionTree, 'XGB': XGB,\n",
        "              'SVC': SVC, 'KNeighbors': KNeighbors, 'GaussianNB': GaussianNB, 'LogisticRegression': LogisticRegression}, index = range(1, 11))\n",
        "\n",
        "# Calculating the mean and standard deviation score of each algorithm\n",
        "#\n",
        "scores.loc['mean'] = scores.mean()\n",
        "scores.loc['std'] = scores.std()\n",
        "\n",
        "# Previewing the scores dataframe\n",
        "#\n",
        "scores"
      ],
      "execution_count": 0,
      "outputs": []
    },
    {
      "cell_type": "code",
      "metadata": {
        "id": "UdjUeP8ziIKz",
        "colab_type": "code",
        "colab": {}
      },
      "source": [
        "# Finding the model with the highest accuracy\n",
        "#\n",
        "scores.loc['mean'].idxmax()"
      ],
      "execution_count": 0,
      "outputs": []
    },
    {
      "cell_type": "code",
      "metadata": {
        "id": "-d-BJB1yib4J",
        "colab_type": "code",
        "colab": {}
      },
      "source": [
        "# Finding the model with the least variance from the mean, i.e standard deviation\n",
        "#\n",
        "scores.loc['std'].idxmin()"
      ],
      "execution_count": 0,
      "outputs": []
    },
    {
      "cell_type": "markdown",
      "metadata": {
        "id": "jPGPsnrpK2yc",
        "colab_type": "text"
      },
      "source": [
        "## Conclusion"
      ]
    },
    {
      "cell_type": "markdown",
      "metadata": {
        "id": "e2nUOC-5iu6v",
        "colab_type": "text"
      },
      "source": [
        "*From the above analysis, it can be observed that the DecisionTreeClassifier is the optimal model for predicting whether the home team won, drew or lost a match.*\n",
        "\n",
        "*This is because it has the highest mean of scores and the lowest variance, which makes it the most stable algorithm*\n",
        "\n",
        "*It should be noted that ranking data was not availble for years below 1993, Therefore more data is needed to make the model more robust*"
      ]
    }
  ]
}